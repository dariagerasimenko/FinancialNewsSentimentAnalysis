{
  "cells": [
    {
      "source": [
        "\n",
        "# IMPORTANT: RUN THIS CELL IN ORDER TO IMPORT YOUR KAGGLE DATA SOURCES\n",
        "# TO THE CORRECT LOCATION (/kaggle/input) IN YOUR NOTEBOOK,\n",
        "# THEN FEEL FREE TO DELETE THIS CELL.\n",
        "# NOTE: THIS NOTEBOOK ENVIRONMENT DIFFERS FROM KAGGLE'S PYTHON\n",
        "# ENVIRONMENT SO THERE MAY BE MISSING LIBRARIES USED BY YOUR\n",
        "# NOTEBOOK.\n",
        "\n",
        "import os\n",
        "import sys\n",
        "from tempfile import NamedTemporaryFile\n",
        "from urllib.request import urlopen\n",
        "from urllib.parse import unquote, urlparse\n",
        "from urllib.error import HTTPError\n",
        "from zipfile import ZipFile\n",
        "import tarfile\n",
        "import shutil\n",
        "\n",
        "CHUNK_SIZE = 40960\n",
        "DATA_SOURCE_MAPPING = 'sentiment-analysis-for-financial-news:https%3A%2F%2Fstorage.googleapis.com%2Fkaggle-data-sets%2F622510%2F1192499%2Fbundle%2Farchive.zip%3FX-Goog-Algorithm%3DGOOG4-RSA-SHA256%26X-Goog-Credential%3Dgcp-kaggle-com%2540kaggle-161607.iam.gserviceaccount.com%252F20240706%252Fauto%252Fstorage%252Fgoog4_request%26X-Goog-Date%3D20240706T112140Z%26X-Goog-Expires%3D259200%26X-Goog-SignedHeaders%3Dhost%26X-Goog-Signature%3D725e19200c3dc70892bdeda8cd0f2ca011b35cb24935b0bb8c7efaeb91c8f435b919ba490413984d6f2d77d8b4940b70d8a48f45cd2c002bca380c19d9c5fd2df8f09eb6c127c3d844c9c9fa0aec97b4423cb040942a6e169396e44aed10977dc6784232c0cd82c2156d339b35d192a1689b810a02bc922b12f8feb8406805312dc63f55e781689ce389d3a79a9f88476d0ba6c9ec45308f93b1992eb1e15a0deffd001b2208483b219cb2ae3f144a8dc2c824fe6508b17e7862322480e99474a3b0c09cd693fac9c39233f34f87063385fdf46de0654a967c3c341d4eb8e62db553982f496334583fc0dbdf00df163d469788a7cb6cf083dd621508cb5cb52e'\n",
        "\n",
        "KAGGLE_INPUT_PATH='/kaggle/input'\n",
        "KAGGLE_WORKING_PATH='/kaggle/working'\n",
        "KAGGLE_SYMLINK='kaggle'\n",
        "\n",
        "!umount /kaggle/input/ 2> /dev/null\n",
        "shutil.rmtree('/kaggle/input', ignore_errors=True)\n",
        "os.makedirs(KAGGLE_INPUT_PATH, 0o777, exist_ok=True)\n",
        "os.makedirs(KAGGLE_WORKING_PATH, 0o777, exist_ok=True)\n",
        "\n",
        "try:\n",
        "  os.symlink(KAGGLE_INPUT_PATH, os.path.join(\"..\", 'input'), target_is_directory=True)\n",
        "except FileExistsError:\n",
        "  pass\n",
        "try:\n",
        "  os.symlink(KAGGLE_WORKING_PATH, os.path.join(\"..\", 'working'), target_is_directory=True)\n",
        "except FileExistsError:\n",
        "  pass\n",
        "\n",
        "for data_source_mapping in DATA_SOURCE_MAPPING.split(','):\n",
        "    directory, download_url_encoded = data_source_mapping.split(':')\n",
        "    download_url = unquote(download_url_encoded)\n",
        "    filename = urlparse(download_url).path\n",
        "    destination_path = os.path.join(KAGGLE_INPUT_PATH, directory)\n",
        "    try:\n",
        "        with urlopen(download_url) as fileres, NamedTemporaryFile() as tfile:\n",
        "            total_length = fileres.headers['content-length']\n",
        "            print(f'Downloading {directory}, {total_length} bytes compressed')\n",
        "            dl = 0\n",
        "            data = fileres.read(CHUNK_SIZE)\n",
        "            while len(data) > 0:\n",
        "                dl += len(data)\n",
        "                tfile.write(data)\n",
        "                done = int(50 * dl / int(total_length))\n",
        "                sys.stdout.write(f\"\\r[{'=' * done}{' ' * (50-done)}] {dl} bytes downloaded\")\n",
        "                sys.stdout.flush()\n",
        "                data = fileres.read(CHUNK_SIZE)\n",
        "            if filename.endswith('.zip'):\n",
        "              with ZipFile(tfile) as zfile:\n",
        "                zfile.extractall(destination_path)\n",
        "            else:\n",
        "              with tarfile.open(tfile.name) as tarfile:\n",
        "                tarfile.extractall(destination_path)\n",
        "            print(f'\\nDownloaded and uncompressed: {directory}')\n",
        "    except HTTPError as e:\n",
        "        print(f'Failed to load (likely expired) {download_url} to path {destination_path}')\n",
        "        continue\n",
        "    except OSError as e:\n",
        "        print(f'Failed to load {download_url} to path {destination_path}')\n",
        "        continue\n",
        "\n",
        "print('Data source import complete.')\n"
      ],
      "metadata": {
        "colab": {
          "base_uri": "https://localhost:8080/"
        },
        "id": "6qJRkK_sdjTE",
        "outputId": "65c270fd-4a40-47ee-e416-977dd4d64fda"
      },
      "cell_type": "code",
      "outputs": [
        {
          "output_type": "stream",
          "name": "stdout",
          "text": [
            "Downloading sentiment-analysis-for-financial-news, 924875 bytes compressed\n",
            "[==================================================] 924875 bytes downloaded\n",
            "Downloaded and uncompressed: sentiment-analysis-for-financial-news\n",
            "Data source import complete.\n"
          ]
        }
      ],
      "execution_count": 1
    },
    {
      "metadata": {
        "papermill": {
          "duration": 0.027981,
          "end_time": "2020-10-05T01:18:49.275514",
          "exception": false,
          "start_time": "2020-10-05T01:18:49.247533",
          "status": "completed"
        },
        "tags": [],
        "id": "jzDnpSeAdjTG"
      },
      "cell_type": "markdown",
      "source": [
        "![https://miro.medium.com/max/9000/1*h0mO4PdZaQKtbwWJW40FKQ.jpeg](https://miro.medium.com/max/9000/1*h0mO4PdZaQKtbwWJW40FKQ.jpeg)"
      ]
    },
    {
      "metadata": {
        "papermill": {
          "duration": 0.025709,
          "end_time": "2020-10-05T01:18:49.589211",
          "exception": false,
          "start_time": "2020-10-05T01:18:49.563502",
          "status": "completed"
        },
        "tags": [],
        "id": "pNFcxJlZdjTI"
      },
      "cell_type": "markdown",
      "source": [
        "# Practical Example"
      ]
    },
    {
      "metadata": {
        "_cell_guid": "b1076dfc-b9ad-4769-8c92-a6c4dae69d19",
        "_uuid": "8f2839f25d086af736a60e9eeb907d3b93b6e0e5",
        "execution": {
          "iopub.execute_input": "2020-10-05T01:18:49.648447Z",
          "iopub.status.busy": "2020-10-05T01:18:49.647785Z",
          "iopub.status.idle": "2020-10-05T01:18:57.011155Z",
          "shell.execute_reply": "2020-10-05T01:18:57.010603Z"
        },
        "papermill": {
          "duration": 7.396026,
          "end_time": "2020-10-05T01:18:57.011338",
          "exception": false,
          "start_time": "2020-10-05T01:18:49.615312",
          "status": "completed"
        },
        "tags": [],
        "trusted": true,
        "id": "n7BkpxkEdjTI"
      },
      "cell_type": "code",
      "source": [
        "import pandas as pd\n",
        "import numpy as np\n",
        "from tqdm import tqdm\n",
        "from keras.preprocessing.text import Tokenizer\n",
        "tqdm.pandas(desc=\"progress-bar\")\n",
        "from gensim.models import Doc2Vec\n",
        "from sklearn import utils\n",
        "from sklearn.model_selection import train_test_split\n",
        "from keras.preprocessing.sequence import pad_sequences\n",
        "import gensim\n",
        "from sklearn.linear_model import LogisticRegression\n",
        "from gensim.models.doc2vec import TaggedDocument\n",
        "import re\n",
        "import seaborn as sns\n",
        "import matplotlib.pyplot as plt"
      ],
      "execution_count": 2,
      "outputs": []
    },
    {
      "metadata": {
        "papermill": {
          "duration": 0.026202,
          "end_time": "2020-10-05T01:18:57.065069",
          "exception": false,
          "start_time": "2020-10-05T01:18:57.038867",
          "status": "completed"
        },
        "tags": [],
        "id": "iToqCskNdjTI"
      },
      "cell_type": "markdown",
      "source": [
        "Read Dataset"
      ]
    },
    {
      "metadata": {
        "execution": {
          "iopub.execute_input": "2020-10-05T01:18:57.125178Z",
          "iopub.status.busy": "2020-10-05T01:18:57.12449Z",
          "iopub.status.idle": "2020-10-05T01:18:57.180713Z",
          "shell.execute_reply": "2020-10-05T01:18:57.181214Z"
        },
        "papermill": {
          "duration": 0.08967,
          "end_time": "2020-10-05T01:18:57.181376",
          "exception": false,
          "start_time": "2020-10-05T01:18:57.091706",
          "status": "completed"
        },
        "tags": [],
        "trusted": true,
        "colab": {
          "base_uri": "https://localhost:8080/",
          "height": 206
        },
        "id": "RKtfkNREdjTI",
        "outputId": "748f7296-bdbd-40ce-e22d-7ff999c11b2e"
      },
      "cell_type": "code",
      "source": [
        "df = pd.read_csv('../input/sentiment-analysis-for-financial-news/all-data.csv',delimiter=',',encoding='latin-1', header=None)\n",
        "df.head()"
      ],
      "execution_count": 3,
      "outputs": [
        {
          "output_type": "execute_result",
          "data": {
            "text/plain": [
              "          0                                                  1\n",
              "0   neutral  According to Gran , the company has no plans t...\n",
              "1   neutral  Technopolis plans to develop in stages an area...\n",
              "2  negative  The international electronic industry company ...\n",
              "3  positive  With the new production plant the company woul...\n",
              "4  positive  According to the company 's updated strategy f..."
            ],
            "text/html": [
              "\n",
              "  <div id=\"df-3e8a2b11-0fe0-471f-a4fe-98da5ba941b4\" class=\"colab-df-container\">\n",
              "    <div>\n",
              "<style scoped>\n",
              "    .dataframe tbody tr th:only-of-type {\n",
              "        vertical-align: middle;\n",
              "    }\n",
              "\n",
              "    .dataframe tbody tr th {\n",
              "        vertical-align: top;\n",
              "    }\n",
              "\n",
              "    .dataframe thead th {\n",
              "        text-align: right;\n",
              "    }\n",
              "</style>\n",
              "<table border=\"1\" class=\"dataframe\">\n",
              "  <thead>\n",
              "    <tr style=\"text-align: right;\">\n",
              "      <th></th>\n",
              "      <th>0</th>\n",
              "      <th>1</th>\n",
              "    </tr>\n",
              "  </thead>\n",
              "  <tbody>\n",
              "    <tr>\n",
              "      <th>0</th>\n",
              "      <td>neutral</td>\n",
              "      <td>According to Gran , the company has no plans t...</td>\n",
              "    </tr>\n",
              "    <tr>\n",
              "      <th>1</th>\n",
              "      <td>neutral</td>\n",
              "      <td>Technopolis plans to develop in stages an area...</td>\n",
              "    </tr>\n",
              "    <tr>\n",
              "      <th>2</th>\n",
              "      <td>negative</td>\n",
              "      <td>The international electronic industry company ...</td>\n",
              "    </tr>\n",
              "    <tr>\n",
              "      <th>3</th>\n",
              "      <td>positive</td>\n",
              "      <td>With the new production plant the company woul...</td>\n",
              "    </tr>\n",
              "    <tr>\n",
              "      <th>4</th>\n",
              "      <td>positive</td>\n",
              "      <td>According to the company 's updated strategy f...</td>\n",
              "    </tr>\n",
              "  </tbody>\n",
              "</table>\n",
              "</div>\n",
              "    <div class=\"colab-df-buttons\">\n",
              "\n",
              "  <div class=\"colab-df-container\">\n",
              "    <button class=\"colab-df-convert\" onclick=\"convertToInteractive('df-3e8a2b11-0fe0-471f-a4fe-98da5ba941b4')\"\n",
              "            title=\"Convert this dataframe to an interactive table.\"\n",
              "            style=\"display:none;\">\n",
              "\n",
              "  <svg xmlns=\"http://www.w3.org/2000/svg\" height=\"24px\" viewBox=\"0 -960 960 960\">\n",
              "    <path d=\"M120-120v-720h720v720H120Zm60-500h600v-160H180v160Zm220 220h160v-160H400v160Zm0 220h160v-160H400v160ZM180-400h160v-160H180v160Zm440 0h160v-160H620v160ZM180-180h160v-160H180v160Zm440 0h160v-160H620v160Z\"/>\n",
              "  </svg>\n",
              "    </button>\n",
              "\n",
              "  <style>\n",
              "    .colab-df-container {\n",
              "      display:flex;\n",
              "      gap: 12px;\n",
              "    }\n",
              "\n",
              "    .colab-df-convert {\n",
              "      background-color: #E8F0FE;\n",
              "      border: none;\n",
              "      border-radius: 50%;\n",
              "      cursor: pointer;\n",
              "      display: none;\n",
              "      fill: #1967D2;\n",
              "      height: 32px;\n",
              "      padding: 0 0 0 0;\n",
              "      width: 32px;\n",
              "    }\n",
              "\n",
              "    .colab-df-convert:hover {\n",
              "      background-color: #E2EBFA;\n",
              "      box-shadow: 0px 1px 2px rgba(60, 64, 67, 0.3), 0px 1px 3px 1px rgba(60, 64, 67, 0.15);\n",
              "      fill: #174EA6;\n",
              "    }\n",
              "\n",
              "    .colab-df-buttons div {\n",
              "      margin-bottom: 4px;\n",
              "    }\n",
              "\n",
              "    [theme=dark] .colab-df-convert {\n",
              "      background-color: #3B4455;\n",
              "      fill: #D2E3FC;\n",
              "    }\n",
              "\n",
              "    [theme=dark] .colab-df-convert:hover {\n",
              "      background-color: #434B5C;\n",
              "      box-shadow: 0px 1px 3px 1px rgba(0, 0, 0, 0.15);\n",
              "      filter: drop-shadow(0px 1px 2px rgba(0, 0, 0, 0.3));\n",
              "      fill: #FFFFFF;\n",
              "    }\n",
              "  </style>\n",
              "\n",
              "    <script>\n",
              "      const buttonEl =\n",
              "        document.querySelector('#df-3e8a2b11-0fe0-471f-a4fe-98da5ba941b4 button.colab-df-convert');\n",
              "      buttonEl.style.display =\n",
              "        google.colab.kernel.accessAllowed ? 'block' : 'none';\n",
              "\n",
              "      async function convertToInteractive(key) {\n",
              "        const element = document.querySelector('#df-3e8a2b11-0fe0-471f-a4fe-98da5ba941b4');\n",
              "        const dataTable =\n",
              "          await google.colab.kernel.invokeFunction('convertToInteractive',\n",
              "                                                    [key], {});\n",
              "        if (!dataTable) return;\n",
              "\n",
              "        const docLinkHtml = 'Like what you see? Visit the ' +\n",
              "          '<a target=\"_blank\" href=https://colab.research.google.com/notebooks/data_table.ipynb>data table notebook</a>'\n",
              "          + ' to learn more about interactive tables.';\n",
              "        element.innerHTML = '';\n",
              "        dataTable['output_type'] = 'display_data';\n",
              "        await google.colab.output.renderOutput(dataTable, element);\n",
              "        const docLink = document.createElement('div');\n",
              "        docLink.innerHTML = docLinkHtml;\n",
              "        element.appendChild(docLink);\n",
              "      }\n",
              "    </script>\n",
              "  </div>\n",
              "\n",
              "\n",
              "<div id=\"df-441cc523-30b2-4085-bfff-f869012cb175\">\n",
              "  <button class=\"colab-df-quickchart\" onclick=\"quickchart('df-441cc523-30b2-4085-bfff-f869012cb175')\"\n",
              "            title=\"Suggest charts\"\n",
              "            style=\"display:none;\">\n",
              "\n",
              "<svg xmlns=\"http://www.w3.org/2000/svg\" height=\"24px\"viewBox=\"0 0 24 24\"\n",
              "     width=\"24px\">\n",
              "    <g>\n",
              "        <path d=\"M19 3H5c-1.1 0-2 .9-2 2v14c0 1.1.9 2 2 2h14c1.1 0 2-.9 2-2V5c0-1.1-.9-2-2-2zM9 17H7v-7h2v7zm4 0h-2V7h2v10zm4 0h-2v-4h2v4z\"/>\n",
              "    </g>\n",
              "</svg>\n",
              "  </button>\n",
              "\n",
              "<style>\n",
              "  .colab-df-quickchart {\n",
              "      --bg-color: #E8F0FE;\n",
              "      --fill-color: #1967D2;\n",
              "      --hover-bg-color: #E2EBFA;\n",
              "      --hover-fill-color: #174EA6;\n",
              "      --disabled-fill-color: #AAA;\n",
              "      --disabled-bg-color: #DDD;\n",
              "  }\n",
              "\n",
              "  [theme=dark] .colab-df-quickchart {\n",
              "      --bg-color: #3B4455;\n",
              "      --fill-color: #D2E3FC;\n",
              "      --hover-bg-color: #434B5C;\n",
              "      --hover-fill-color: #FFFFFF;\n",
              "      --disabled-bg-color: #3B4455;\n",
              "      --disabled-fill-color: #666;\n",
              "  }\n",
              "\n",
              "  .colab-df-quickchart {\n",
              "    background-color: var(--bg-color);\n",
              "    border: none;\n",
              "    border-radius: 50%;\n",
              "    cursor: pointer;\n",
              "    display: none;\n",
              "    fill: var(--fill-color);\n",
              "    height: 32px;\n",
              "    padding: 0;\n",
              "    width: 32px;\n",
              "  }\n",
              "\n",
              "  .colab-df-quickchart:hover {\n",
              "    background-color: var(--hover-bg-color);\n",
              "    box-shadow: 0 1px 2px rgba(60, 64, 67, 0.3), 0 1px 3px 1px rgba(60, 64, 67, 0.15);\n",
              "    fill: var(--button-hover-fill-color);\n",
              "  }\n",
              "\n",
              "  .colab-df-quickchart-complete:disabled,\n",
              "  .colab-df-quickchart-complete:disabled:hover {\n",
              "    background-color: var(--disabled-bg-color);\n",
              "    fill: var(--disabled-fill-color);\n",
              "    box-shadow: none;\n",
              "  }\n",
              "\n",
              "  .colab-df-spinner {\n",
              "    border: 2px solid var(--fill-color);\n",
              "    border-color: transparent;\n",
              "    border-bottom-color: var(--fill-color);\n",
              "    animation:\n",
              "      spin 1s steps(1) infinite;\n",
              "  }\n",
              "\n",
              "  @keyframes spin {\n",
              "    0% {\n",
              "      border-color: transparent;\n",
              "      border-bottom-color: var(--fill-color);\n",
              "      border-left-color: var(--fill-color);\n",
              "    }\n",
              "    20% {\n",
              "      border-color: transparent;\n",
              "      border-left-color: var(--fill-color);\n",
              "      border-top-color: var(--fill-color);\n",
              "    }\n",
              "    30% {\n",
              "      border-color: transparent;\n",
              "      border-left-color: var(--fill-color);\n",
              "      border-top-color: var(--fill-color);\n",
              "      border-right-color: var(--fill-color);\n",
              "    }\n",
              "    40% {\n",
              "      border-color: transparent;\n",
              "      border-right-color: var(--fill-color);\n",
              "      border-top-color: var(--fill-color);\n",
              "    }\n",
              "    60% {\n",
              "      border-color: transparent;\n",
              "      border-right-color: var(--fill-color);\n",
              "    }\n",
              "    80% {\n",
              "      border-color: transparent;\n",
              "      border-right-color: var(--fill-color);\n",
              "      border-bottom-color: var(--fill-color);\n",
              "    }\n",
              "    90% {\n",
              "      border-color: transparent;\n",
              "      border-bottom-color: var(--fill-color);\n",
              "    }\n",
              "  }\n",
              "</style>\n",
              "\n",
              "  <script>\n",
              "    async function quickchart(key) {\n",
              "      const quickchartButtonEl =\n",
              "        document.querySelector('#' + key + ' button');\n",
              "      quickchartButtonEl.disabled = true;  // To prevent multiple clicks.\n",
              "      quickchartButtonEl.classList.add('colab-df-spinner');\n",
              "      try {\n",
              "        const charts = await google.colab.kernel.invokeFunction(\n",
              "            'suggestCharts', [key], {});\n",
              "      } catch (error) {\n",
              "        console.error('Error during call to suggestCharts:', error);\n",
              "      }\n",
              "      quickchartButtonEl.classList.remove('colab-df-spinner');\n",
              "      quickchartButtonEl.classList.add('colab-df-quickchart-complete');\n",
              "    }\n",
              "    (() => {\n",
              "      let quickchartButtonEl =\n",
              "        document.querySelector('#df-441cc523-30b2-4085-bfff-f869012cb175 button');\n",
              "      quickchartButtonEl.style.display =\n",
              "        google.colab.kernel.accessAllowed ? 'block' : 'none';\n",
              "    })();\n",
              "  </script>\n",
              "</div>\n",
              "\n",
              "    </div>\n",
              "  </div>\n"
            ],
            "application/vnd.google.colaboratory.intrinsic+json": {
              "type": "dataframe",
              "variable_name": "df",
              "summary": "{\n  \"name\": \"df\",\n  \"rows\": 4846,\n  \"fields\": [\n    {\n      \"column\": 0,\n      \"properties\": {\n        \"dtype\": \"category\",\n        \"num_unique_values\": 3,\n        \"samples\": [\n          \"neutral\",\n          \"negative\",\n          \"positive\"\n        ],\n        \"semantic_type\": \"\",\n        \"description\": \"\"\n      }\n    },\n    {\n      \"column\": 1,\n      \"properties\": {\n        \"dtype\": \"string\",\n        \"num_unique_values\": 4838,\n        \"samples\": [\n          \"The Company serves approximately 3,000 customers in over 100 countries .\",\n          \"On Dec. 1 , Grimaldi acquired 1.5 million shares and a 50.1-percent stake in Finnlines .\",\n          \"The extracted filtrates are very high in clarity while the dried filter cakes meet required transport moisture limits (TMLs)for their ore grades .\"\n        ],\n        \"semantic_type\": \"\",\n        \"description\": \"\"\n      }\n    }\n  ]\n}"
            }
          },
          "metadata": {},
          "execution_count": 3
        }
      ]
    },
    {
      "metadata": {
        "trusted": true,
        "id": "LNPkc_PldjTJ"
      },
      "cell_type": "code",
      "source": [
        "df = df.rename(columns={0:'sentiment',1:'Message'})"
      ],
      "execution_count": 4,
      "outputs": []
    },
    {
      "metadata": {
        "_cell_guid": "79c7e3d0-c299-4dcb-8224-4455121ee9b0",
        "_uuid": "d629ff2d2480ee46fbb7e2d37f6b5fab8052498a",
        "execution": {
          "iopub.execute_input": "2020-10-05T01:18:57.240538Z",
          "iopub.status.busy": "2020-10-05T01:18:57.239589Z",
          "iopub.status.idle": "2020-10-05T01:18:57.24335Z",
          "shell.execute_reply": "2020-10-05T01:18:57.242794Z"
        },
        "papermill": {
          "duration": 0.03518,
          "end_time": "2020-10-05T01:18:57.243466",
          "exception": false,
          "start_time": "2020-10-05T01:18:57.208286",
          "status": "completed"
        },
        "tags": [],
        "trusted": true,
        "colab": {
          "base_uri": "https://localhost:8080/"
        },
        "id": "6lu8RH4hdjTJ",
        "outputId": "33e8aaae-9581-4f12-a71a-0257a4ce3b95"
      },
      "cell_type": "code",
      "source": [
        "df.shape"
      ],
      "execution_count": 5,
      "outputs": [
        {
          "output_type": "execute_result",
          "data": {
            "text/plain": [
              "(4846, 2)"
            ]
          },
          "metadata": {},
          "execution_count": 5
        }
      ]
    },
    {
      "metadata": {
        "execution": {
          "iopub.execute_input": "2020-10-05T01:18:57.313889Z",
          "iopub.status.busy": "2020-10-05T01:18:57.313076Z",
          "iopub.status.idle": "2020-10-05T01:18:57.316946Z",
          "shell.execute_reply": "2020-10-05T01:18:57.317401Z"
        },
        "papermill": {
          "duration": 0.046333,
          "end_time": "2020-10-05T01:18:57.317547",
          "exception": false,
          "start_time": "2020-10-05T01:18:57.271214",
          "status": "completed"
        },
        "tags": [],
        "trusted": true,
        "colab": {
          "base_uri": "https://localhost:8080/"
        },
        "id": "ipT0kn--djTJ",
        "outputId": "13b0399a-ab38-4fe2-b958-ca553799b3ad"
      },
      "cell_type": "code",
      "source": [
        "df.index = range(4846)\n",
        "df['Message'].apply(lambda x: len(x.split(' '))).sum()"
      ],
      "execution_count": 6,
      "outputs": [
        {
          "output_type": "execute_result",
          "data": {
            "text/plain": [
              "111989"
            ]
          },
          "metadata": {},
          "execution_count": 6
        }
      ]
    },
    {
      "metadata": {
        "papermill": {
          "duration": 0.027071,
          "end_time": "2020-10-05T01:18:57.372222",
          "exception": false,
          "start_time": "2020-10-05T01:18:57.345151",
          "status": "completed"
        },
        "tags": [],
        "id": "CBEb2cmKdjTJ"
      },
      "cell_type": "markdown",
      "source": [
        "VISUALIZING THE DATA"
      ]
    },
    {
      "metadata": {
        "execution": {
          "iopub.execute_input": "2020-10-05T01:18:57.43523Z",
          "iopub.status.busy": "2020-10-05T01:18:57.434605Z",
          "iopub.status.idle": "2020-10-05T01:18:57.596722Z",
          "shell.execute_reply": "2020-10-05T01:18:57.59716Z"
        },
        "papermill": {
          "duration": 0.197726,
          "end_time": "2020-10-05T01:18:57.597339",
          "exception": false,
          "start_time": "2020-10-05T01:18:57.399613",
          "status": "completed"
        },
        "tags": [],
        "trusted": true,
        "colab": {
          "base_uri": "https://localhost:8080/",
          "height": 441
        },
        "id": "ekKaxrx9djTJ",
        "outputId": "e15bd8ff-147c-4471-afb8-df6b131f460f"
      },
      "cell_type": "code",
      "source": [
        "cnt_pro = df['sentiment'].value_counts()\n",
        "plt.figure(figsize=(12,4))\n",
        "sns.barplot(x = cnt_pro.index, y = cnt_pro.values, alpha=0.8)\n",
        "plt.ylabel('Number of Occurrences', fontsize=12)\n",
        "plt.xlabel('sentiment', fontsize=12)\n",
        "plt.xticks(rotation=90)\n",
        "plt.show();"
      ],
      "execution_count": 7,
      "outputs": [
        {
          "output_type": "display_data",
          "data": {
            "text/plain": [
              "<Figure size 1200x400 with 1 Axes>"
            ],
            "image/png": "[encoded data removed]"
          },
          "metadata": {}
        }
      ]
    },
    {
      "cell_type": "code",
      "source": [],
      "metadata": {
        "id": "qkbgbNM6eAUA"
      },
      "execution_count": 7,
      "outputs": []
    },
    {
      "metadata": {
        "trusted": true,
        "colab": {
          "base_uri": "https://localhost:8080/"
        },
        "id": "UPHBDNEWdjTJ",
        "outputId": "0197de81-607f-4a79-b46c-7df55854450d"
      },
      "cell_type": "code",
      "source": [
        "#Convert sting to numeric\n",
        "sentiment  = {'positive': 0,'neutral': 1,'negative':2}\n",
        "\n",
        "df.sentiment = [sentiment[item] for item in df.sentiment]\n",
        "print(df)"
      ],
      "execution_count": 8,
      "outputs": [
        {
          "output_type": "stream",
          "name": "stdout",
          "text": [
            "      sentiment                                            Message\n",
            "0             1  According to Gran , the company has no plans t...\n",
            "1             1  Technopolis plans to develop in stages an area...\n",
            "2             2  The international electronic industry company ...\n",
            "3             0  With the new production plant the company woul...\n",
            "4             0  According to the company 's updated strategy f...\n",
            "...         ...                                                ...\n",
            "4841          2  LONDON MarketWatch -- Share prices ended lower...\n",
            "4842          1  Rinkuskiai 's beer sales fell by 6.5 per cent ...\n",
            "4843          2  Operating profit fell to EUR 35.4 mn from EUR ...\n",
            "4844          2  Net sales of the Paper segment decreased to EU...\n",
            "4845          2  Sales in Finland decreased by 10.5 % in Januar...\n",
            "\n",
            "[4846 rows x 2 columns]\n"
          ]
        }
      ]
    },
    {
      "metadata": {
        "execution": {
          "iopub.execute_input": "2020-10-05T01:18:57.661109Z",
          "iopub.status.busy": "2020-10-05T01:18:57.660385Z",
          "iopub.status.idle": "2020-10-05T01:18:57.664845Z",
          "shell.execute_reply": "2020-10-05T01:18:57.664295Z"
        },
        "papermill": {
          "duration": 0.039449,
          "end_time": "2020-10-05T01:18:57.66496",
          "exception": false,
          "start_time": "2020-10-05T01:18:57.625511",
          "status": "completed"
        },
        "tags": [],
        "trusted": true,
        "colab": {
          "base_uri": "https://localhost:8080/"
        },
        "id": "hflKWNbEdjTJ",
        "outputId": "c18c11e1-2c8b-40e0-b683-b5f4c1a55085"
      },
      "cell_type": "code",
      "source": [
        "def print_message(index):\n",
        "    example = df[df.index == index][['Message', 'sentiment']].values[0]\n",
        "    if len(example) > 0:\n",
        "        print(example[0])\n",
        "        print('Message:', example[1])\n",
        "print_message(12)"
      ],
      "execution_count": 9,
      "outputs": [
        {
          "output_type": "stream",
          "name": "stdout",
          "text": [
            "A purchase agreement for 7,200 tons of gasoline with delivery at the Hamina terminal , Finland , was signed with Neste Oil OYj at the average Platts index for this September plus eight US dollars per month .\n",
            "Message: 0\n"
          ]
        }
      ]
    },
    {
      "metadata": {
        "execution": {
          "iopub.execute_input": "2020-10-05T01:18:57.727963Z",
          "iopub.status.busy": "2020-10-05T01:18:57.72733Z",
          "iopub.status.idle": "2020-10-05T01:18:57.730151Z",
          "shell.execute_reply": "2020-10-05T01:18:57.730741Z"
        },
        "papermill": {
          "duration": 0.03747,
          "end_time": "2020-10-05T01:18:57.730886",
          "exception": false,
          "start_time": "2020-10-05T01:18:57.693416",
          "status": "completed"
        },
        "tags": [],
        "trusted": true,
        "colab": {
          "base_uri": "https://localhost:8080/"
        },
        "id": "tw2XoczGdjTJ",
        "outputId": "7dda3e40-2922-456e-a411-8d53c3853193"
      },
      "cell_type": "code",
      "source": [
        "print_message(0)"
      ],
      "execution_count": 10,
      "outputs": [
        {
          "output_type": "stream",
          "name": "stdout",
          "text": [
            "According to Gran , the company has no plans to move all production to Russia , although that is where the company is growing .\n",
            "Message: 1\n"
          ]
        }
      ]
    },
    {
      "metadata": {
        "papermill": {
          "duration": 0.028191,
          "end_time": "2020-10-05T01:18:57.787679",
          "exception": false,
          "start_time": "2020-10-05T01:18:57.759488",
          "status": "completed"
        },
        "tags": [],
        "id": "HGLVsf_OdjTJ"
      },
      "cell_type": "markdown",
      "source": [
        "Text Preprocessing Below we define a function to convert text to lower-case and strip punctuation/symbols from words and so on."
      ]
    },
    {
      "metadata": {
        "execution": {
          "iopub.execute_input": "2020-10-05T01:18:57.851856Z",
          "iopub.status.busy": "2020-10-05T01:18:57.851034Z",
          "iopub.status.idle": "2020-10-05T01:18:59.249432Z",
          "shell.execute_reply": "2020-10-05T01:18:59.248746Z"
        },
        "papermill": {
          "duration": 1.433243,
          "end_time": "2020-10-05T01:18:59.249542",
          "exception": false,
          "start_time": "2020-10-05T01:18:57.816299",
          "status": "completed"
        },
        "tags": [],
        "trusted": true,
        "colab": {
          "base_uri": "https://localhost:8080/"
        },
        "id": "a53nHK1udjTJ",
        "outputId": "730b4fbc-61f1-47d9-c478-6e19ca3ffc26"
      },
      "cell_type": "code",
      "source": [
        "from bs4 import BeautifulSoup\n",
        "def cleanText(text):\n",
        "    text = BeautifulSoup(text, \"lxml\").text\n",
        "    text = re.sub(r'\\|\\|\\|', r' ', text)\n",
        "    text = re.sub(r'http\\S+', r'<URL>', text)\n",
        "    text = text.lower()\n",
        "    text = text.replace('x', '')\n",
        "    return text\n",
        "df['Message'] = df['Message'].apply(cleanText)"
      ],
      "execution_count": 11,
      "outputs": [
        {
          "output_type": "stream",
          "name": "stderr",
          "text": [
            "<ipython-input-11-1bb443366b7f>:3: MarkupResemblesLocatorWarning: The input looks more like a filename than markup. You may want to open this file and pass the filehandle into Beautiful Soup.\n",
            "  text = BeautifulSoup(text, \"lxml\").text\n"
          ]
        }
      ]
    },
    {
      "metadata": {
        "execution": {
          "iopub.execute_input": "2020-10-05T01:18:59.320415Z",
          "iopub.status.busy": "2020-10-05T01:18:59.315271Z",
          "iopub.status.idle": "2020-10-05T01:19:03.167105Z",
          "shell.execute_reply": "2020-10-05T01:19:03.166463Z"
        },
        "papermill": {
          "duration": 3.888841,
          "end_time": "2020-10-05T01:19:03.167222",
          "exception": false,
          "start_time": "2020-10-05T01:18:59.278381",
          "status": "completed"
        },
        "tags": [],
        "trusted": true,
        "colab": {
          "base_uri": "https://localhost:8080/"
        },
        "id": "qz5fl8P9djTJ",
        "outputId": "22c7dd2e-9945-4275-f76b-8e5deaca90ff"
      },
      "cell_type": "code",
      "source": [
        "df['Message'] = df['Message'].apply(cleanText)\n",
        "train, test = train_test_split(df, test_size=0.000001 , random_state=42)\n",
        "import nltk\n",
        "from nltk.corpus import stopwords\n",
        "nltk.download('punkt')\n",
        "nltk.download('stopwords')\n",
        "stop_words = set(stopwords.words('english'))\n",
        "def tokenize_text(text):\n",
        "    tokens = []\n",
        "    for sent in nltk.sent_tokenize(text):\n",
        "        for word in nltk.word_tokenize(sent):\n",
        "            #if len(word) < 0:\n",
        "            if len(word) <= 0 or word in stop_words: ## if len(word) <= 0\n",
        "                continue\n",
        "            tokens.append(word.lower())\n",
        "    return tokens\n",
        "train_tagged = train.apply(\n",
        "    lambda r: TaggedDocument(words=tokenize_text(r['Message']), tags=[r.sentiment]), axis=1)\n",
        "test_tagged = test.apply(\n",
        "    lambda r: TaggedDocument(words=tokenize_text(r['Message']), tags=[r.sentiment]), axis=1)\n",
        "\n",
        "# The maximum number of words to be used. (most frequent)\n",
        "max_fatures = 500000\n",
        "\n",
        "# Max number of words in each complaint.\n",
        "MAX_SEQUENCE_LENGTH = 50\n",
        "\n",
        "#tokenizer = Tokenizer(num_words=max_fatures, split=' ')\n",
        "tokenizer = Tokenizer(num_words=max_fatures, split=' ', filters='!\"#$%&()*+,-./:;<=>?@[\\]^_`{|}~', lower=True)\n",
        "tokenizer.fit_on_texts(df['Message'].values)\n",
        "X = tokenizer.texts_to_sequences(df['Message'].values)\n",
        "X = pad_sequences(X)\n",
        "print('Found %s unique tokens.' % len(X))"
      ],
      "execution_count": 12,
      "outputs": [
        {
          "output_type": "stream",
          "name": "stderr",
          "text": [
            "<ipython-input-11-1bb443366b7f>:3: MarkupResemblesLocatorWarning: The input looks more like a filename than markup. You may want to open this file and pass the filehandle into Beautiful Soup.\n",
            "  text = BeautifulSoup(text, \"lxml\").text\n",
            "[nltk_data] Downloading package punkt to /root/nltk_data...\n",
            "[nltk_data]   Package punkt is already up-to-date!\n",
            "[nltk_data] Downloading package stopwords to /root/nltk_data...\n",
            "[nltk_data]   Package stopwords is already up-to-date!\n"
          ]
        },
        {
          "output_type": "stream",
          "name": "stdout",
          "text": [
            "Found 4846 unique tokens.\n"
          ]
        }
      ]
    },
    {
      "metadata": {
        "execution": {
          "iopub.execute_input": "2020-10-05T01:19:03.26982Z",
          "iopub.status.busy": "2020-10-05T01:19:03.264784Z",
          "iopub.status.idle": "2020-10-05T01:19:03.357792Z",
          "shell.execute_reply": "2020-10-05T01:19:03.357033Z"
        },
        "papermill": {
          "duration": 0.161222,
          "end_time": "2020-10-05T01:19:03.35797",
          "exception": false,
          "start_time": "2020-10-05T01:19:03.196748",
          "status": "completed"
        },
        "tags": [],
        "trusted": true,
        "colab": {
          "base_uri": "https://localhost:8080/"
        },
        "id": "qTysXi5fdjTJ",
        "outputId": "08985b18-90fa-49bc-ce62-481833984244"
      },
      "cell_type": "code",
      "source": [
        "X = tokenizer.texts_to_sequences(df['Message'].values)\n",
        "X = pad_sequences(X, maxlen=MAX_SEQUENCE_LENGTH)\n",
        "print('Shape of data tensor:', X.shape)"
      ],
      "execution_count": 13,
      "outputs": [
        {
          "output_type": "stream",
          "name": "stdout",
          "text": [
            "Shape of data tensor: (4846, 50)\n"
          ]
        }
      ]
    },
    {
      "metadata": {
        "execution": {
          "iopub.execute_input": "2020-10-05T01:19:03.423266Z",
          "iopub.status.busy": "2020-10-05T01:19:03.422404Z",
          "iopub.status.idle": "2020-10-05T01:19:03.42685Z",
          "shell.execute_reply": "2020-10-05T01:19:03.426078Z"
        },
        "papermill": {
          "duration": 0.038354,
          "end_time": "2020-10-05T01:19:03.426988",
          "exception": false,
          "start_time": "2020-10-05T01:19:03.388634",
          "status": "completed"
        },
        "tags": [],
        "trusted": true,
        "colab": {
          "base_uri": "https://localhost:8080/"
        },
        "id": "f59uD-cydjTJ",
        "outputId": "8ae3bbb7-2b19-4284-cb87-e361c06e1ce6"
      },
      "cell_type": "code",
      "source": [
        "#train_tagged.values[2173]\n",
        "train_tagged.values"
      ],
      "execution_count": 14,
      "outputs": [
        {
          "output_type": "execute_result",
          "data": {
            "text/plain": [
              "array([TaggedDocument(words=['unc', 'charlotte', 'would', 'also', 'deploy', 'ssh', 'tectia', 'connector', 'enable', 'secure', 'application', 'connectivity', '.'], tags=[1]),\n",
              "       TaggedDocument(words=['2009', ',', 'lee', '&', 'man', 'combined', 'annual', 'production', 'capacity', 'close', '4.5', 'million', 'tonnes', 'paper', '300,000', 'tonnes', 'pulp', '.'], tags=[1]),\n",
              "       TaggedDocument(words=['``', \"'s\", 'high', 'figure', 'european', 'scale', ',', '``', 'noop', 'said', ',', 'recalling', 'however', 'also', 'includes', 'beer', 'bought', 'finnish', 'tourists', '.'], tags=[1]),\n",
              "       ...,\n",
              "       TaggedDocument(words=['products', 'include', 'consumer', 'electronics', 'devices', 'mobile', 'phones', 'accessories', ',', 'set-top', 'boes', ',', 'flat', 'panel', 'tvs', 'well', 'system', 'solutions', 'products', 'infrastructure', 'systems', ',', 'modules', 'industrial', 'segment', 'products', '.'], tags=[1]),\n",
              "       TaggedDocument(words=['bridge', 'part', 'highway', '14', 'development', 'project', '.'], tags=[1]),\n",
              "       TaggedDocument(words=['(', 'adp', 'news', ')', '-', 'oct', '1', ',', '2008', '-', 'finnish', 'consulting', 'engineering', 'company', 'poyry', 'oyj', '(', 'om', ':', 'poy1v', ')', 'said', 'today', 'awarded', 'eur', '5.2', 'million', '(', 'usd', '7.4', ')', 'etension', 'eisting', 'consultancy', 'engineering', 'contract', 'venezuel'], tags=[0])],\n",
              "      dtype=object)"
            ]
          },
          "metadata": {},
          "execution_count": 14
        }
      ]
    },
    {
      "metadata": {
        "papermill": {
          "duration": 0.030785,
          "end_time": "2020-10-05T01:19:03.489054",
          "exception": false,
          "start_time": "2020-10-05T01:19:03.458269",
          "status": "completed"
        },
        "tags": [],
        "id": "hZmfqmZxdjTJ"
      },
      "cell_type": "markdown",
      "source": [
        "Model DM = 1\n",
        "\n",
        "This work use DM=1 (it preserve word order)"
      ]
    },
    {
      "metadata": {
        "execution": {
          "iopub.execute_input": "2020-10-05T01:19:03.55773Z",
          "iopub.status.busy": "2020-10-05T01:19:03.557064Z",
          "iopub.status.idle": "2020-10-05T01:19:05.81867Z",
          "shell.execute_reply": "2020-10-05T01:19:05.817959Z"
        },
        "papermill": {
          "duration": 2.298341,
          "end_time": "2020-10-05T01:19:05.818788",
          "exception": false,
          "start_time": "2020-10-05T01:19:03.520447",
          "status": "completed"
        },
        "tags": [],
        "trusted": true,
        "colab": {
          "base_uri": "https://localhost:8080/"
        },
        "id": "Kwc7YJcndjTJ",
        "outputId": "98bfe6bc-ec4e-4397-cb9a-3025b7c22d9e"
      },
      "cell_type": "code",
      "source": [
        "d2v_model = Doc2Vec(dm=1, dm_mean=1, vector_size=20, window=8, min_count=1, workers=1, alpha=0.065, min_alpha=0.065)\n",
        "d2v_model.build_vocab([x for x in tqdm(train_tagged.values)])\n"
      ],
      "execution_count": 15,
      "outputs": [
        {
          "output_type": "stream",
          "name": "stderr",
          "text": [
            "100%|██████████| 4845/4845 [00:00<00:00, 1981222.86it/s]\n"
          ]
        }
      ]
    },
    {
      "metadata": {
        "execution": {
          "iopub.execute_input": "2020-10-05T01:19:05.886405Z",
          "iopub.status.busy": "2020-10-05T01:19:05.885713Z",
          "iopub.status.idle": "2020-10-05T01:19:17.297968Z",
          "shell.execute_reply": "2020-10-05T01:19:17.29887Z"
        },
        "papermill": {
          "duration": 11.449623,
          "end_time": "2020-10-05T01:19:17.299148",
          "exception": false,
          "start_time": "2020-10-05T01:19:05.849525",
          "status": "completed"
        },
        "tags": [],
        "trusted": true,
        "colab": {
          "base_uri": "https://localhost:8080/"
        },
        "id": "YHnWRKqhdjTJ",
        "outputId": "89155e3f-32ae-4880-be16-5dfad3bcc36d"
      },
      "cell_type": "code",
      "source": [
        "%%time\n",
        "for epoch in range(30):\n",
        "    d2v_model.train(utils.shuffle([x for x in tqdm(train_tagged.values)]), total_examples=len(train_tagged.values), epochs=1)\n",
        "    d2v_model.alpha -= 0.002\n",
        "    d2v_model.min_alpha = d2v_model.alpha"
      ],
      "execution_count": 16,
      "outputs": [
        {
          "output_type": "stream",
          "name": "stderr",
          "text": [
            "100%|██████████| 4845/4845 [00:00<00:00, 2878385.68it/s]\n",
            "100%|██████████| 4845/4845 [00:00<00:00, 2839771.22it/s]\n",
            "100%|██████████| 4845/4845 [00:00<00:00, 2890668.97it/s]\n",
            "100%|██████████| 4845/4845 [00:00<00:00, 2918903.03it/s]\n",
            "100%|██████████| 4845/4845 [00:00<00:00, 2052252.36it/s]\n",
            "100%|██████████| 4845/4845 [00:00<00:00, 3106298.21it/s]\n",
            "100%|██████████| 4845/4845 [00:00<00:00, 1669657.62it/s]\n",
            "100%|██████████| 4845/4845 [00:00<00:00, 2068967.92it/s]\n",
            "100%|██████████| 4845/4845 [00:00<00:00, 2624148.10it/s]\n",
            "100%|██████████| 4845/4845 [00:00<00:00, 2865802.13it/s]\n",
            "100%|██████████| 4845/4845 [00:00<00:00, 2540175.36it/s]\n",
            "100%|██████████| 4845/4845 [00:00<00:00, 1485265.52it/s]\n",
            "100%|██████████| 4845/4845 [00:00<00:00, 1433709.81it/s]\n",
            "100%|██████████| 4845/4845 [00:00<00:00, 2342794.89it/s]\n",
            "100%|██████████| 4845/4845 [00:00<00:00, 1572012.29it/s]\n",
            "100%|██████████| 4845/4845 [00:00<00:00, 1548887.41it/s]\n",
            "100%|██████████| 4845/4845 [00:00<00:00, 3008795.21it/s]\n",
            "100%|██████████| 4845/4845 [00:00<00:00, 2304797.88it/s]\n",
            "100%|██████████| 4845/4845 [00:00<00:00, 3365027.80it/s]\n",
            "100%|██████████| 4845/4845 [00:00<00:00, 1332900.62it/s]\n",
            "100%|██████████| 4845/4845 [00:00<00:00, 2644982.80it/s]\n",
            "100%|██████████| 4845/4845 [00:00<00:00, 1207020.84it/s]\n",
            "100%|██████████| 4845/4845 [00:00<00:00, 3150605.10it/s]\n",
            "100%|██████████| 4845/4845 [00:00<00:00, 2790251.67it/s]\n",
            "100%|██████████| 4845/4845 [00:00<00:00, 2816939.68it/s]\n",
            "100%|██████████| 4845/4845 [00:00<00:00, 2907626.68it/s]\n",
            "100%|██████████| 4845/4845 [00:00<00:00, 3207798.40it/s]\n",
            "100%|██████████| 4845/4845 [00:00<00:00, 2493117.76it/s]\n",
            "100%|██████████| 4845/4845 [00:00<00:00, 2643262.60it/s]\n",
            "100%|██████████| 4845/4845 [00:00<00:00, 1449148.03it/s]\n"
          ]
        },
        {
          "output_type": "stream",
          "name": "stdout",
          "text": [
            "CPU times: user 10.7 s, sys: 88.5 ms, total: 10.8 s\n",
            "Wall time: 15.7 s\n"
          ]
        }
      ]
    },
    {
      "metadata": {
        "execution": {
          "iopub.execute_input": "2020-10-05T01:19:17.431464Z",
          "iopub.status.busy": "2020-10-05T01:19:17.430666Z",
          "iopub.status.idle": "2020-10-05T01:19:17.434788Z",
          "shell.execute_reply": "2020-10-05T01:19:17.43418Z"
        },
        "papermill": {
          "duration": 0.063869,
          "end_time": "2020-10-05T01:19:17.434906",
          "exception": false,
          "start_time": "2020-10-05T01:19:17.371037",
          "status": "completed"
        },
        "tags": [],
        "trusted": true,
        "colab": {
          "base_uri": "https://localhost:8080/"
        },
        "id": "nKdwC5qvdjTJ",
        "outputId": "50ae9902-441d-4db1-e388-5fd9ed6bc7eb"
      },
      "cell_type": "code",
      "source": [
        "print(d2v_model)\n"
      ],
      "execution_count": 17,
      "outputs": [
        {
          "output_type": "stream",
          "name": "stdout",
          "text": [
            "Doc2Vec<dm/m,d20,n5,w8,s0.001>\n"
          ]
        }
      ]
    },
    {
      "metadata": {
        "execution": {
          "iopub.execute_input": "2020-10-05T01:19:17.552003Z",
          "iopub.status.busy": "2020-10-05T01:19:17.551313Z",
          "iopub.status.idle": "2020-10-05T01:19:17.555857Z",
          "shell.execute_reply": "2020-10-05T01:19:17.555256Z"
        },
        "papermill": {
          "duration": 0.065241,
          "end_time": "2020-10-05T01:19:17.555966",
          "exception": false,
          "start_time": "2020-10-05T01:19:17.490725",
          "status": "completed"
        },
        "tags": [],
        "trusted": true,
        "colab": {
          "base_uri": "https://localhost:8080/"
        },
        "id": "uG2srsH5djTK",
        "outputId": "0eb3e4ae-c167-48bd-8cea-778ac453e73b"
      },
      "cell_type": "code",
      "source": [
        "len(d2v_model.wv.index_to_key)\n"
      ],
      "execution_count": 18,
      "outputs": [
        {
          "output_type": "execute_result",
          "data": {
            "text/plain": [
              "11559"
            ]
          },
          "metadata": {},
          "execution_count": 18
        }
      ]
    },
    {
      "metadata": {
        "execution": {
          "iopub.execute_input": "2020-10-05T01:19:17.675386Z",
          "iopub.status.busy": "2020-10-05T01:19:17.674656Z",
          "iopub.status.idle": "2020-10-05T01:19:17.678629Z",
          "shell.execute_reply": "2020-10-05T01:19:17.677978Z"
        },
        "papermill": {
          "duration": 0.066276,
          "end_time": "2020-10-05T01:19:17.678744",
          "exception": false,
          "start_time": "2020-10-05T01:19:17.612468",
          "status": "completed"
        },
        "tags": [],
        "trusted": true,
        "id": "rqgLpSfidjTK"
      },
      "cell_type": "code",
      "source": [
        "# save the vectors in a new matrix\n",
        "embedding_matrix = np.zeros((len(d2v_model.wv.index_to_key)+ 1, 20))\n",
        "\n",
        "for i, vec in enumerate(d2v_model.dv.vectors):\n",
        "    while i in vec <= 1000:\n",
        "    #print(i)\n",
        "    #print(model.docvecs)\n",
        "          embedding_matrix[i]=vec\n",
        "    #print(vec)\n",
        "    #print(vec[i])"
      ],
      "execution_count": 19,
      "outputs": []
    },
    {
      "metadata": {
        "papermill": {
          "duration": 0.056188,
          "end_time": "2020-10-05T01:19:17.792133",
          "exception": false,
          "start_time": "2020-10-05T01:19:17.735945",
          "status": "completed"
        },
        "tags": [],
        "id": "wrQquX5OdjTK"
      },
      "cell_type": "markdown",
      "source": [
        "# Measuring distance between two vectors (related to cosine similarity)"
      ]
    },
    {
      "metadata": {
        "execution": {
          "iopub.execute_input": "2020-10-05T01:19:17.911424Z",
          "iopub.status.busy": "2020-10-05T01:19:17.910718Z",
          "iopub.status.idle": "2020-10-05T01:19:17.922817Z",
          "shell.execute_reply": "2020-10-05T01:19:17.922112Z"
        },
        "papermill": {
          "duration": 0.074348,
          "end_time": "2020-10-05T01:19:17.922934",
          "exception": false,
          "start_time": "2020-10-05T01:19:17.848586",
          "status": "completed"
        },
        "tags": [],
        "trusted": true,
        "colab": {
          "base_uri": "https://localhost:8080/"
        },
        "id": "CMEyfs98djTK",
        "outputId": "e5674d00-1abc-4a8d-883a-2bebeeca4cb7"
      },
      "cell_type": "code",
      "source": [
        "d2v_model.wv.most_similar(positive=['profit'], topn=10)\n"
      ],
      "execution_count": 20,
      "outputs": [
        {
          "output_type": "execute_result",
          "data": {
            "text/plain": [
              "[('income', 0.8156010508537292),\n",
              " ('loss', 0.8069632649421692),\n",
              " ('29.4', 0.7924073338508606),\n",
              " ('writing', 0.7850239276885986),\n",
              " ('interiors', 0.7722282409667969),\n",
              " ('colors', 0.766916811466217),\n",
              " ('dans', 0.759617030620575),\n",
              " ('break-even', 0.7547102570533752),\n",
              " ('fancy', 0.7412893176078796),\n",
              " ('35.8', 0.7386695742607117)]"
            ]
          },
          "metadata": {},
          "execution_count": 20
        }
      ]
    },
    {
      "metadata": {
        "execution": {
          "iopub.execute_input": "2020-10-05T01:19:18.045125Z",
          "iopub.status.busy": "2020-10-05T01:19:18.044197Z",
          "iopub.status.idle": "2020-10-05T01:19:18.050376Z",
          "shell.execute_reply": "2020-10-05T01:19:18.049834Z"
        },
        "papermill": {
          "duration": 0.070818,
          "end_time": "2020-10-05T01:19:18.050488",
          "exception": false,
          "start_time": "2020-10-05T01:19:17.97967",
          "status": "completed"
        },
        "tags": [],
        "trusted": true,
        "colab": {
          "base_uri": "https://localhost:8080/"
        },
        "id": "JN7pU-vHdjTK",
        "outputId": "409a9763-6416-4cda-ad5f-11faca1a552b"
      },
      "cell_type": "code",
      "source": [
        "d2v_model.wv.most_similar(positive=['investment'], topn=10)\n"
      ],
      "execution_count": 21,
      "outputs": [
        {
          "output_type": "execute_result",
          "data": {
            "text/plain": [
              "[('luembourg-registered', 0.7898472547531128),\n",
              " ('roi', 0.7558265328407288),\n",
              " ('holdings', 0.7428624033927917),\n",
              " ('property', 0.7292940020561218),\n",
              " ('properties', 0.7289754152297974),\n",
              " ('ver', 0.7232036590576172),\n",
              " ('ilmarinen', 0.7049282789230347),\n",
              " ('varma', 0.6927581429481506),\n",
              " ('matka-vekka', 0.6832638382911682),\n",
              " ('construction', 0.681349515914917)]"
            ]
          },
          "metadata": {},
          "execution_count": 21
        }
      ]
    },
    {
      "metadata": {
        "trusted": true,
        "colab": {
          "base_uri": "https://localhost:8080/"
        },
        "id": "Uv0aez9hdjTK",
        "outputId": "02988e84-964f-4275-a1c7-1f162475bfcd"
      },
      "cell_type": "code",
      "source": [
        "d2v_model.wv.most_similar(positive=['broke'], topn=10)"
      ],
      "execution_count": 22,
      "outputs": [
        {
          "output_type": "execute_result",
          "data": {
            "text/plain": [
              "[('mold', 0.9580631852149963),\n",
              " ('aboavista', 0.9196449518203735),\n",
              " ('mursula', 0.8718428611755371),\n",
              " ('want', 0.8684328198432922),\n",
              " ('urls', 0.8602123856544495),\n",
              " ('cautious', 0.8591155409812927),\n",
              " ('eager', 0.8584463000297546),\n",
              " (\"'m\", 0.8559736013412476),\n",
              " ('macro-economic', 0.8557884693145752),\n",
              " ('artemyev', 0.8526414036750793)]"
            ]
          },
          "metadata": {},
          "execution_count": 22
        }
      ]
    },
    {
      "metadata": {
        "id": "4Q2pn2C1djTK"
      },
      "cell_type": "markdown",
      "source": [
        "Plot Similarity word in Doc2vec"
      ]
    },
    {
      "metadata": {
        "trusted": true,
        "id": "bzKESz18djTK"
      },
      "cell_type": "code",
      "source": [
        "from sklearn.manifold import TSNE\n",
        "import matplotlib.pyplot as plt\n",
        "%matplotlib inline\n",
        "\n",
        "def tsne_plot(model):\n",
        "    \"Creates and TSNE model and plots it\"\n",
        "    labels = []\n",
        "    tokens = []\n",
        "\n",
        "    for word in d2v_model.wv.key_to_index:\n",
        "        tokens.append(model[word])\n",
        "        labels.append(word)\n",
        "\n",
        "    tsne_model = TSNE(perplexity=40, n_components=2, init='pca', n_iter=250, random_state=23)\n",
        "    new_values = tsne_model.fit_transform(np.array(tokens))\n",
        "\n",
        "    x = []\n",
        "    y = []\n",
        "    for value in new_values:\n",
        "        x.append(value[0])\n",
        "        y.append(value[1])\n",
        "\n",
        "    plt.figure(figsize=(16, 16))\n",
        "    for i in range(50):\n",
        "        plt.scatter(x[i],y[i])\n",
        "        plt.annotate(labels[i],\n",
        "                     xy=(x[i], y[i]),\n",
        "                     xytext=(5, 2),\n",
        "                     textcoords='offset points',\n",
        "                     ha='right',\n",
        "                     va='bottom')\n",
        "    plt.show()"
      ],
      "execution_count": 23,
      "outputs": []
    },
    {
      "metadata": {
        "trusted": true,
        "id": "bLRAK7D8djTK",
        "colab": {
          "base_uri": "https://localhost:8080/",
          "height": 1000
        },
        "outputId": "d74a36c0-71f0-4b0c-ece1-43e4288537ef"
      },
      "cell_type": "code",
      "source": [
        "tsne_plot(d2v_model)"
      ],
      "execution_count": 24,
      "outputs": [
        {
          "output_type": "display_data",
          "data": {
            "text/plain": [
              "<Figure size 1600x1600 with 1 Axes>"
            ],
            "image/png": "[encoded data removed]"
          },
          "metadata": {}
        }
      ]
    },
    {
      "metadata": {
        "papermill": {
          "duration": 0.057228,
          "end_time": "2020-10-05T01:19:18.165925",
          "exception": false,
          "start_time": "2020-10-05T01:19:18.108697",
          "status": "completed"
        },
        "tags": [],
        "id": "-6l2UC6ZdjTK"
      },
      "cell_type": "markdown",
      "source": [
        "# Create the LSTM Model\n",
        "\n",
        "The parameter used here inspired by [3].\n",
        "\n"
      ]
    },
    {
      "metadata": {
        "execution": {
          "iopub.execute_input": "2020-10-05T01:19:18.290022Z",
          "iopub.status.busy": "2020-10-05T01:19:18.28922Z",
          "iopub.status.idle": "2020-10-05T01:19:18.769926Z",
          "shell.execute_reply": "2020-10-05T01:19:18.769384Z"
        },
        "papermill": {
          "duration": 0.54651,
          "end_time": "2020-10-05T01:19:18.770035",
          "exception": false,
          "start_time": "2020-10-05T01:19:18.223525",
          "status": "completed"
        },
        "tags": [],
        "trusted": true,
        "colab": {
          "base_uri": "https://localhost:8080/"
        },
        "id": "-krWLGP5djTN",
        "outputId": "a2c52be5-a468-4dd9-d8c7-18296c7390ac"
      },
      "cell_type": "code",
      "source": [
        "from keras.models import Sequential\n",
        "from keras.layers import LSTM, Dense, Embedding\n",
        "\n",
        "\n",
        "# init layer\n",
        "model = Sequential()\n",
        "\n",
        "# emmbed word vectors\n",
        "model.add(Embedding(len(d2v_model.wv.key_to_index)+1,20,input_length=X.shape[1],weights=[embedding_matrix],trainable=True))\n",
        "\n",
        "# learn the correlations\n",
        "def split_input(sequence):\n",
        "     return sequence[:-1], tf.reshape(sequence[1:], (-1,1))\n",
        "model.add(LSTM(50,return_sequences=False))\n",
        "model.add(Dense(3,activation=\"softmax\"))\n",
        "\n",
        "# output model skeleton\n",
        "model.summary()\n",
        "model.compile(optimizer=\"adam\",loss=\"binary_crossentropy\",metrics=['acc'])"
      ],
      "execution_count": 25,
      "outputs": [
        {
          "output_type": "stream",
          "name": "stdout",
          "text": [
            "Model: \"sequential\"\n",
            "_________________________________________________________________\n",
            " Layer (type)                Output Shape              Param #   \n",
            "=================================================================\n",
            " embedding (Embedding)       (None, 50, 20)            231200    \n",
            "                                                                 \n",
            " lstm (LSTM)                 (None, 50)                14200     \n",
            "                                                                 \n",
            " dense (Dense)               (None, 3)                 153       \n",
            "                                                                 \n",
            "=================================================================\n",
            "Total params: 245553 (959.19 KB)\n",
            "Trainable params: 245553 (959.19 KB)\n",
            "Non-trainable params: 0 (0.00 Byte)\n",
            "_________________________________________________________________\n"
          ]
        }
      ]
    },
    {
      "metadata": {
        "execution": {
          "iopub.execute_input": "2020-10-05T01:19:18.890903Z",
          "iopub.status.busy": "2020-10-05T01:19:18.890223Z",
          "iopub.status.idle": "2020-10-05T01:19:19.468055Z",
          "shell.execute_reply": "2020-10-05T01:19:19.467419Z"
        },
        "papermill": {
          "duration": 0.641169,
          "end_time": "2020-10-05T01:19:19.468168",
          "exception": false,
          "start_time": "2020-10-05T01:19:18.826999",
          "status": "completed"
        },
        "tags": [],
        "trusted": true,
        "colab": {
          "base_uri": "https://localhost:8080/",
          "height": 369
        },
        "id": "bmdFPsUidjTN",
        "outputId": "f95e1ed5-43b5-4402-d22f-f6374d04b200"
      },
      "cell_type": "code",
      "source": [
        "from keras.utils import plot_model\n",
        "plot_model(model, to_file='model.png')"
      ],
      "execution_count": 26,
      "outputs": [
        {
          "output_type": "execute_result",
          "data": {
            "image/png": "[encoded data removed]",
            "text/plain": [
              "<IPython.core.display.Image object>"
            ]
          },
          "metadata": {},
          "execution_count": 26
        }
      ]
    },
    {
      "metadata": {
        "execution": {
          "iopub.execute_input": "2020-10-05T01:19:19.592582Z",
          "iopub.status.busy": "2020-10-05T01:19:19.591805Z",
          "iopub.status.idle": "2020-10-05T01:19:19.600008Z",
          "shell.execute_reply": "2020-10-05T01:19:19.60048Z"
        },
        "papermill": {
          "duration": 0.073975,
          "end_time": "2020-10-05T01:19:19.600639",
          "exception": false,
          "start_time": "2020-10-05T01:19:19.526664",
          "status": "completed"
        },
        "tags": [],
        "trusted": true,
        "colab": {
          "base_uri": "https://localhost:8080/"
        },
        "id": "aD4s8lWidjTN",
        "outputId": "fc42f3ae-4925-4500-adf5-e73bfee09b67"
      },
      "cell_type": "code",
      "source": [
        "Y = pd.get_dummies(df['sentiment']).values\n",
        "X_train, X_test, Y_train, Y_test = train_test_split(X,Y, test_size = 0.15, random_state = 42)\n",
        "print(X_train.shape,Y_train.shape)\n",
        "print(X_test.shape,Y_test.shape)"
      ],
      "execution_count": 27,
      "outputs": [
        {
          "output_type": "stream",
          "name": "stdout",
          "text": [
            "(4119, 50) (4119, 3)\n",
            "(727, 50) (727, 3)\n"
          ]
        }
      ]
    },
    {
      "metadata": {
        "execution": {
          "iopub.execute_input": "2020-10-05T01:19:19.723478Z",
          "iopub.status.busy": "2020-10-05T01:19:19.722804Z",
          "iopub.status.idle": "2020-10-05T01:21:25.543691Z",
          "shell.execute_reply": "2020-10-05T01:21:25.54296Z"
        },
        "papermill": {
          "duration": 125.885256,
          "end_time": "2020-10-05T01:21:25.543826",
          "exception": false,
          "start_time": "2020-10-05T01:19:19.65857",
          "status": "completed"
        },
        "tags": [],
        "trusted": true,
        "colab": {
          "base_uri": "https://localhost:8080/"
        },
        "id": "W6APOpaRdjTO",
        "outputId": "0b5404cc-d1d3-4a67-9454-84a7b6e06cd9"
      },
      "cell_type": "code",
      "source": [
        "batch_size = 32\n",
        "history=model.fit(X_train, Y_train, epochs =50, batch_size=batch_size, verbose = 2)"
      ],
      "execution_count": 28,
      "outputs": [
        {
          "output_type": "stream",
          "name": "stdout",
          "text": [
            "Epoch 1/50\n",
            "129/129 - 4s - loss: 0.5518 - acc: 0.5950 - 4s/epoch - 29ms/step\n",
            "Epoch 2/50\n",
            "129/129 - 2s - loss: 0.4273 - acc: 0.6953 - 2s/epoch - 16ms/step\n",
            "Epoch 3/50\n",
            "129/129 - 2s - loss: 0.3077 - acc: 0.7849 - 2s/epoch - 17ms/step\n",
            "Epoch 4/50\n",
            "129/129 - 3s - loss: 0.2396 - acc: 0.8296 - 3s/epoch - 21ms/step\n",
            "Epoch 5/50\n",
            "129/129 - 2s - loss: 0.1996 - acc: 0.8585 - 2s/epoch - 16ms/step\n",
            "Epoch 6/50\n",
            "129/129 - 2s - loss: 0.1695 - acc: 0.8958 - 2s/epoch - 16ms/step\n",
            "Epoch 7/50\n",
            "129/129 - 2s - loss: 0.1120 - acc: 0.9376 - 2s/epoch - 16ms/step\n",
            "Epoch 8/50\n",
            "129/129 - 2s - loss: 0.0700 - acc: 0.9663 - 2s/epoch - 16ms/step\n",
            "Epoch 9/50\n",
            "129/129 - 3s - loss: 0.0462 - acc: 0.9786 - 3s/epoch - 20ms/step\n",
            "Epoch 10/50\n",
            "129/129 - 2s - loss: 0.0361 - acc: 0.9825 - 2s/epoch - 18ms/step\n",
            "Epoch 11/50\n",
            "129/129 - 2s - loss: 0.0300 - acc: 0.9876 - 2s/epoch - 16ms/step\n",
            "Epoch 12/50\n",
            "129/129 - 2s - loss: 0.0315 - acc: 0.9859 - 2s/epoch - 16ms/step\n",
            "Epoch 13/50\n",
            "129/129 - 2s - loss: 0.0297 - acc: 0.9869 - 2s/epoch - 16ms/step\n",
            "Epoch 14/50\n",
            "129/129 - 2s - loss: 0.0245 - acc: 0.9888 - 2s/epoch - 16ms/step\n",
            "Epoch 15/50\n",
            "129/129 - 3s - loss: 0.0220 - acc: 0.9903 - 3s/epoch - 22ms/step\n",
            "Epoch 16/50\n",
            "129/129 - 2s - loss: 0.0261 - acc: 0.9883 - 2s/epoch - 16ms/step\n",
            "Epoch 17/50\n",
            "129/129 - 2s - loss: 0.0149 - acc: 0.9942 - 2s/epoch - 16ms/step\n",
            "Epoch 18/50\n",
            "129/129 - 2s - loss: 0.0133 - acc: 0.9942 - 2s/epoch - 16ms/step\n",
            "Epoch 19/50\n",
            "129/129 - 2s - loss: 0.0123 - acc: 0.9954 - 2s/epoch - 16ms/step\n",
            "Epoch 20/50\n",
            "129/129 - 2s - loss: 0.0137 - acc: 0.9942 - 2s/epoch - 16ms/step\n",
            "Epoch 21/50\n",
            "129/129 - 3s - loss: 0.0112 - acc: 0.9956 - 3s/epoch - 22ms/step\n",
            "Epoch 22/50\n",
            "129/129 - 2s - loss: 0.0162 - acc: 0.9915 - 2s/epoch - 16ms/step\n",
            "Epoch 23/50\n",
            "129/129 - 2s - loss: 0.0117 - acc: 0.9944 - 2s/epoch - 15ms/step\n",
            "Epoch 24/50\n",
            "129/129 - 2s - loss: 0.0087 - acc: 0.9959 - 2s/epoch - 15ms/step\n",
            "Epoch 25/50\n",
            "129/129 - 2s - loss: 0.0082 - acc: 0.9971 - 2s/epoch - 15ms/step\n",
            "Epoch 26/50\n",
            "129/129 - 2s - loss: 0.0066 - acc: 0.9973 - 2s/epoch - 18ms/step\n",
            "Epoch 27/50\n",
            "129/129 - 3s - loss: 0.0069 - acc: 0.9973 - 3s/epoch - 20ms/step\n",
            "Epoch 28/50\n",
            "129/129 - 2s - loss: 0.0080 - acc: 0.9966 - 2s/epoch - 15ms/step\n",
            "Epoch 29/50\n",
            "129/129 - 3s - loss: 0.0089 - acc: 0.9961 - 3s/epoch - 23ms/step\n",
            "Epoch 30/50\n",
            "129/129 - 2s - loss: 0.0089 - acc: 0.9956 - 2s/epoch - 19ms/step\n",
            "Epoch 31/50\n",
            "129/129 - 2s - loss: 0.0081 - acc: 0.9966 - 2s/epoch - 17ms/step\n",
            "Epoch 32/50\n",
            "129/129 - 3s - loss: 0.0074 - acc: 0.9973 - 3s/epoch - 20ms/step\n",
            "Epoch 33/50\n",
            "129/129 - 2s - loss: 0.0053 - acc: 0.9976 - 2s/epoch - 15ms/step\n",
            "Epoch 34/50\n",
            "129/129 - 2s - loss: 0.0064 - acc: 0.9973 - 2s/epoch - 16ms/step\n",
            "Epoch 35/50\n",
            "129/129 - 2s - loss: 0.0041 - acc: 0.9983 - 2s/epoch - 15ms/step\n",
            "Epoch 36/50\n",
            "129/129 - 2s - loss: 0.0030 - acc: 0.9985 - 2s/epoch - 16ms/step\n",
            "Epoch 37/50\n",
            "129/129 - 2s - loss: 0.0033 - acc: 0.9983 - 2s/epoch - 19ms/step\n",
            "Epoch 38/50\n",
            "129/129 - 2s - loss: 0.0056 - acc: 0.9968 - 2s/epoch - 18ms/step\n",
            "Epoch 39/50\n",
            "129/129 - 2s - loss: 0.0056 - acc: 0.9983 - 2s/epoch - 15ms/step\n",
            "Epoch 40/50\n",
            "129/129 - 2s - loss: 0.0053 - acc: 0.9978 - 2s/epoch - 15ms/step\n",
            "Epoch 41/50\n",
            "129/129 - 2s - loss: 0.0078 - acc: 0.9966 - 2s/epoch - 16ms/step\n",
            "Epoch 42/50\n",
            "129/129 - 2s - loss: 0.0045 - acc: 0.9983 - 2s/epoch - 15ms/step\n",
            "Epoch 43/50\n",
            "129/129 - 3s - loss: 0.0075 - acc: 0.9968 - 3s/epoch - 22ms/step\n",
            "Epoch 44/50\n",
            "129/129 - 2s - loss: 0.0051 - acc: 0.9983 - 2s/epoch - 16ms/step\n",
            "Epoch 45/50\n",
            "129/129 - 2s - loss: 0.0032 - acc: 0.9978 - 2s/epoch - 16ms/step\n",
            "Epoch 46/50\n",
            "129/129 - 2s - loss: 0.0024 - acc: 0.9985 - 2s/epoch - 15ms/step\n",
            "Epoch 47/50\n",
            "129/129 - 2s - loss: 0.0026 - acc: 0.9983 - 2s/epoch - 17ms/step\n",
            "Epoch 48/50\n",
            "129/129 - 2s - loss: 0.0026 - acc: 0.9981 - 2s/epoch - 17ms/step\n",
            "Epoch 49/50\n",
            "129/129 - 3s - loss: 0.0025 - acc: 0.9983 - 3s/epoch - 21ms/step\n",
            "Epoch 50/50\n",
            "129/129 - 2s - loss: 0.0020 - acc: 0.9988 - 2s/epoch - 16ms/step\n"
          ]
        }
      ]
    },
    {
      "metadata": {
        "execution": {
          "iopub.execute_input": "2020-10-05T01:21:25.729387Z",
          "iopub.status.busy": "2020-10-05T01:21:25.728399Z",
          "iopub.status.idle": "2020-10-05T01:21:26.027345Z",
          "shell.execute_reply": "2020-10-05T01:21:26.026669Z"
        },
        "papermill": {
          "duration": 0.398548,
          "end_time": "2020-10-05T01:21:26.027463",
          "exception": false,
          "start_time": "2020-10-05T01:21:25.628915",
          "status": "completed"
        },
        "tags": [],
        "trusted": true,
        "colab": {
          "base_uri": "https://localhost:8080/",
          "height": 945
        },
        "id": "zS5_6uJXdjTO",
        "outputId": "2e5c8375-409e-44f4-a9fb-5c83b958e12a"
      },
      "cell_type": "code",
      "source": [
        "plt.plot(history.history['acc'])\n",
        "plt.title('model accuracy')\n",
        "plt.ylabel('acc')\n",
        "plt.xlabel('epochs')\n",
        "plt.legend(['train', 'test'], loc='upper left')\n",
        "plt.show()\n",
        "plt.savefig('model_accuracy.png')\n",
        "\n",
        "# summarize history for loss\n",
        "plt.plot(history.history['loss'])\n",
        "#plt.plot(history.history['val_loss'])\n",
        "plt.title('model loss')\n",
        "plt.ylabel('loss')\n",
        "plt.xlabel('epochs')\n",
        "plt.legend(['train', 'test'], loc='upper left')\n",
        "plt.show()\n",
        "plt.savefig('model_loss.png')"
      ],
      "execution_count": 29,
      "outputs": [
        {
          "output_type": "display_data",
          "data": {
            "text/plain": [
              "<Figure size 640x480 with 1 Axes>"
            ],
            "image/png": "[encoded data removed]"
          },
          "metadata": {}
        },
        {
          "output_type": "display_data",
          "data": {
            "text/plain": [
              "<Figure size 640x480 with 1 Axes>"
            ],
            "image/png": "[encoded data removed]"
          },
          "metadata": {}
        },
        {
          "output_type": "display_data",
          "data": {
            "text/plain": [
              "<Figure size 640x480 with 0 Axes>"
            ]
          },
          "metadata": {}
        }
      ]
    },
    {
      "metadata": {
        "execution": {
          "iopub.execute_input": "2020-10-05T01:21:26.206672Z",
          "iopub.status.busy": "2020-10-05T01:21:26.205744Z",
          "iopub.status.idle": "2020-10-05T01:21:28.117947Z",
          "shell.execute_reply": "2020-10-05T01:21:28.1172Z"
        },
        "papermill": {
          "duration": 2.004721,
          "end_time": "2020-10-05T01:21:28.118085",
          "exception": false,
          "start_time": "2020-10-05T01:21:26.113364",
          "status": "completed"
        },
        "tags": [],
        "trusted": true,
        "colab": {
          "base_uri": "https://localhost:8080/"
        },
        "id": "pAPHMPx_djTO",
        "outputId": "ddbbc1bb-5b22-41aa-be75-fa168dee6739"
      },
      "cell_type": "code",
      "source": [
        "# evaluate the model\n",
        "_, train_acc = model.evaluate(X_train, Y_train, verbose=2)\n",
        "_, test_acc = model.evaluate(X_test, Y_test, verbose=2)\n",
        "print('Train: %.3f, Test: %.4f' % (train_acc, test_acc))"
      ],
      "execution_count": 30,
      "outputs": [
        {
          "output_type": "stream",
          "name": "stdout",
          "text": [
            "129/129 - 1s - loss: 0.0016 - acc: 0.9988 - 1s/epoch - 8ms/step\n",
            "23/23 - 0s - loss: 1.1400 - acc: 0.7552 - 129ms/epoch - 6ms/step\n",
            "Train: 0.999, Test: 0.7552\n"
          ]
        }
      ]
    },
    {
      "metadata": {
        "execution": {
          "iopub.execute_input": "2020-10-05T01:21:28.300463Z",
          "iopub.status.busy": "2020-10-05T01:21:28.299499Z",
          "iopub.status.idle": "2020-10-05T01:21:29.006904Z",
          "shell.execute_reply": "2020-10-05T01:21:29.006054Z"
        },
        "papermill": {
          "duration": 0.801117,
          "end_time": "2020-10-05T01:21:29.007032",
          "exception": false,
          "start_time": "2020-10-05T01:21:28.205915",
          "status": "completed"
        },
        "tags": [],
        "trusted": true,
        "colab": {
          "base_uri": "https://localhost:8080/"
        },
        "id": "cpw4Q0HydjTO",
        "outputId": "61283cee-35aa-4244-b615-38b11a85808c"
      },
      "cell_type": "code",
      "source": [
        "# predict probabilities for test set\n",
        "yhat_probs = model.predict(X_test, verbose=0)\n",
        "print(yhat_probs)\n",
        "# predict crisp classes for test set\n",
        "yhat_classes = (model.predict(X_test, verbose=0) > 0.5).astype(\"int32\")\n",
        "print(yhat_classes)\n",
        "# reduce to 1d array\n",
        "#yhat_probs = yhat_probs[:, 0]\n",
        "yhat_classes = np.argmax(yhat_classes,axis=1)"
      ],
      "execution_count": 31,
      "outputs": [
        {
          "output_type": "stream",
          "name": "stdout",
          "text": [
            "[[2.9061837e-08 9.9999994e-01 9.1912273e-09]\n",
            " [7.8018987e-11 9.9999994e-01 4.7632506e-11]\n",
            " [9.9999994e-01 5.2813935e-08 1.3483185e-08]\n",
            " ...\n",
            " [1.4768781e-08 1.0000000e+00 6.5207768e-09]\n",
            " [5.4246349e-05 9.9994361e-01 2.1682692e-06]\n",
            " [4.2030723e-03 9.9316698e-01 2.6300496e-03]]\n",
            "[[0 1 0]\n",
            " [0 1 0]\n",
            " [1 0 0]\n",
            " ...\n",
            " [0 1 0]\n",
            " [0 1 0]\n",
            " [0 1 0]]\n"
          ]
        }
      ]
    },
    {
      "metadata": {
        "execution": {
          "iopub.execute_input": "2020-10-05T01:21:29.191224Z",
          "iopub.status.busy": "2020-10-05T01:21:29.190422Z",
          "iopub.status.idle": "2020-10-05T01:21:29.194988Z",
          "shell.execute_reply": "2020-10-05T01:21:29.194467Z"
        },
        "papermill": {
          "duration": 0.100661,
          "end_time": "2020-10-05T01:21:29.195099",
          "exception": false,
          "start_time": "2020-10-05T01:21:29.094438",
          "status": "completed"
        },
        "tags": [],
        "trusted": true,
        "colab": {
          "base_uri": "https://localhost:8080/"
        },
        "id": "npP5NhJYdjTO",
        "outputId": "0d4f4a5e-17fb-4e0f-f0e2-5130588c0c1d"
      },
      "cell_type": "code",
      "source": [
        "import numpy as np\n",
        "rounded_labels=np.argmax(Y_test, axis=1)\n",
        "rounded_labels"
      ],
      "execution_count": 32,
      "outputs": [
        {
          "output_type": "execute_result",
          "data": {
            "text/plain": [
              "array([1, 1, 1, 1, 1, 1, 0, 1, 1, 1, 1, 0, 1, 1, 1, 1, 1, 1, 1, 2, 2, 1,\n",
              "       0, 1, 1, 0, 1, 1, 1, 2, 1, 1, 1, 2, 1, 0, 2, 1, 1, 2, 0, 1, 1, 1,\n",
              "       0, 2, 0, 1, 0, 1, 1, 1, 0, 2, 1, 0, 1, 1, 1, 1, 0, 0, 2, 1, 0, 1,\n",
              "       0, 0, 1, 1, 1, 0, 1, 1, 0, 1, 1, 1, 1, 0, 1, 2, 0, 2, 0, 0, 1, 0,\n",
              "       1, 0, 0, 1, 2, 1, 1, 1, 1, 1, 0, 1, 1, 1, 1, 1, 1, 1, 1, 0, 1, 2,\n",
              "       1, 0, 2, 1, 0, 0, 1, 0, 0, 1, 0, 1, 1, 1, 1, 0, 2, 1, 0, 1, 2, 0,\n",
              "       1, 1, 0, 1, 0, 2, 0, 1, 1, 1, 2, 0, 1, 1, 1, 1, 0, 1, 1, 0, 1, 0,\n",
              "       1, 1, 1, 0, 2, 2, 0, 0, 1, 0, 1, 0, 1, 2, 1, 1, 1, 0, 1, 0, 0, 1,\n",
              "       1, 1, 1, 0, 0, 0, 1, 0, 1, 2, 0, 2, 1, 1, 1, 1, 0, 1, 1, 0, 1, 1,\n",
              "       1, 0, 1, 1, 0, 2, 1, 0, 1, 1, 0, 1, 1, 1, 1, 1, 0, 1, 1, 2, 0, 1,\n",
              "       1, 1, 1, 1, 1, 1, 1, 0, 1, 1, 1, 0, 0, 0, 1, 0, 0, 0, 1, 0, 1, 1,\n",
              "       1, 2, 0, 0, 0, 1, 1, 0, 1, 1, 0, 0, 1, 1, 1, 1, 1, 1, 1, 0, 1, 0,\n",
              "       2, 1, 2, 1, 1, 0, 1, 1, 2, 1, 1, 0, 1, 1, 1, 1, 1, 0, 1, 2, 1, 1,\n",
              "       0, 1, 2, 1, 0, 1, 0, 2, 2, 1, 1, 1, 0, 0, 0, 2, 1, 2, 1, 1, 1, 0,\n",
              "       1, 0, 0, 2, 1, 1, 1, 1, 1, 1, 2, 1, 2, 1, 0, 1, 0, 1, 1, 1, 0, 1,\n",
              "       1, 0, 0, 0, 0, 1, 1, 0, 1, 1, 1, 1, 1, 1, 1, 0, 2, 0, 2, 1, 0, 1,\n",
              "       0, 1, 1, 1, 0, 1, 2, 1, 0, 1, 1, 1, 0, 0, 1, 1, 1, 0, 0, 0, 1, 1,\n",
              "       2, 0, 1, 1, 2, 1, 1, 1, 2, 1, 0, 1, 0, 0, 1, 0, 1, 0, 1, 0, 1, 2,\n",
              "       0, 0, 0, 0, 1, 0, 1, 1, 2, 2, 0, 2, 1, 1, 1, 1, 0, 0, 1, 2, 0, 1,\n",
              "       1, 0, 1, 1, 1, 2, 2, 0, 2, 2, 0, 0, 0, 0, 1, 1, 1, 1, 1, 0, 2, 0,\n",
              "       0, 0, 1, 1, 1, 1, 0, 2, 0, 1, 1, 1, 1, 1, 1, 1, 2, 1, 1, 0, 0, 1,\n",
              "       1, 1, 1, 1, 1, 2, 1, 2, 0, 1, 1, 1, 1, 1, 0, 1, 1, 0, 1, 0, 1, 0,\n",
              "       1, 1, 1, 1, 0, 1, 1, 1, 1, 1, 1, 1, 1, 1, 1, 1, 1, 2, 1, 1, 1, 1,\n",
              "       1, 1, 2, 1, 1, 1, 0, 1, 0, 1, 0, 1, 0, 1, 0, 0, 0, 2, 1, 1, 0, 0,\n",
              "       1, 1, 1, 1, 0, 1, 1, 2, 0, 1, 1, 1, 1, 1, 1, 0, 1, 1, 0, 0, 2, 1,\n",
              "       1, 2, 1, 1, 1, 0, 2, 1, 1, 1, 1, 1, 2, 2, 1, 0, 0, 1, 2, 1, 0, 2,\n",
              "       0, 1, 1, 1, 1, 1, 2, 1, 1, 0, 0, 1, 0, 0, 0, 1, 1, 0, 0, 0, 1, 1,\n",
              "       0, 1, 1, 1, 2, 1, 1, 1, 0, 1, 1, 0, 2, 1, 2, 1, 0, 1, 0, 0, 1, 1,\n",
              "       2, 2, 1, 0, 1, 2, 1, 1, 1, 0, 1, 1, 0, 1, 1, 0, 2, 1, 0, 1, 0, 0,\n",
              "       1, 1, 1, 1, 1, 1, 1, 0, 0, 1, 1, 1, 0, 0, 0, 0, 1, 0, 2, 0, 1, 0,\n",
              "       0, 0, 1, 1, 1, 2, 1, 1, 1, 1, 1, 1, 1, 1, 0, 1, 1, 1, 0, 2, 0, 1,\n",
              "       1, 1, 1, 2, 1, 0, 1, 0, 1, 2, 0, 1, 1, 1, 0, 0, 1, 1, 0, 0, 1, 1,\n",
              "       2, 1, 2, 0, 1, 0, 1, 1, 1, 1, 1, 1, 1, 0, 1, 0, 1, 0, 0, 0, 1, 0,\n",
              "       1])"
            ]
          },
          "metadata": {},
          "execution_count": 32
        }
      ]
    },
    {
      "metadata": {
        "execution": {
          "iopub.execute_input": "2020-10-05T01:21:29.378285Z",
          "iopub.status.busy": "2020-10-05T01:21:29.377634Z",
          "iopub.status.idle": "2020-10-05T01:21:29.386496Z",
          "shell.execute_reply": "2020-10-05T01:21:29.385863Z"
        },
        "papermill": {
          "duration": 0.102667,
          "end_time": "2020-10-05T01:21:29.386607",
          "exception": false,
          "start_time": "2020-10-05T01:21:29.28394",
          "status": "completed"
        },
        "tags": [],
        "trusted": true,
        "colab": {
          "base_uri": "https://localhost:8080/"
        },
        "id": "YRKGvn6odjTO",
        "outputId": "17e5b8ec-54b5-40f6-8826-8832a983c9e8"
      },
      "cell_type": "code",
      "source": [
        "from sklearn.metrics import confusion_matrix\n",
        "cm = confusion_matrix(rounded_labels, yhat_classes)\n",
        "cm"
      ],
      "execution_count": 33,
      "outputs": [
        {
          "output_type": "execute_result",
          "data": {
            "text/plain": [
              "array([[132,  76,   8],\n",
              "       [ 46, 372,   9],\n",
              "       [ 12,  27,  45]])"
            ]
          },
          "metadata": {},
          "execution_count": 33
        }
      ]
    },
    {
      "metadata": {
        "execution": {
          "iopub.execute_input": "2020-10-05T01:21:29.609757Z",
          "iopub.status.busy": "2020-10-05T01:21:29.609106Z",
          "iopub.status.idle": "2020-10-05T01:21:29.785727Z",
          "shell.execute_reply": "2020-10-05T01:21:29.785174Z"
        },
        "papermill": {
          "duration": 0.274994,
          "end_time": "2020-10-05T01:21:29.78585",
          "exception": false,
          "start_time": "2020-10-05T01:21:29.510856",
          "status": "completed"
        },
        "tags": [],
        "trusted": true,
        "colab": {
          "base_uri": "https://localhost:8080/",
          "height": 487
        },
        "id": "5pIjKA17djTO",
        "outputId": "c7829899-7584-45eb-8b98-d1086ca3a61e"
      },
      "cell_type": "code",
      "source": [
        "# The confusion matrix\n",
        "from sklearn.metrics import confusion_matrix\n",
        "import seaborn as sns\n",
        "\n",
        "lstm_val = confusion_matrix(rounded_labels, yhat_classes)\n",
        "f, ax = plt.subplots(figsize=(5,5))\n",
        "sns.heatmap(lstm_val, annot=True, linewidth=0.7, linecolor='cyan', fmt='g', ax=ax, cmap=\"BuPu\")\n",
        "plt.title('LSTM Classification Confusion Matrix')\n",
        "plt.xlabel('Y predict')\n",
        "plt.ylabel('Y test')\n",
        "plt.show()"
      ],
      "execution_count": 34,
      "outputs": [
        {
          "output_type": "display_data",
          "data": {
            "text/plain": [
              "<Figure size 500x500 with 2 Axes>"
            ],
            "image/png": "[encoded data removed]"
          },
          "metadata": {}
        }
      ]
    },
    {
      "metadata": {
        "id": "rcx8U0WKdjTO"
      },
      "cell_type": "markdown",
      "source": [
        "# Validation"
      ]
    },
    {
      "metadata": {
        "execution": {
          "iopub.execute_input": "2020-10-05T01:21:29.971724Z",
          "iopub.status.busy": "2020-10-05T01:21:29.970793Z",
          "iopub.status.idle": "2020-10-05T01:21:30.139222Z",
          "shell.execute_reply": "2020-10-05T01:21:30.138618Z"
        },
        "papermill": {
          "duration": 0.264325,
          "end_time": "2020-10-05T01:21:30.139378",
          "exception": false,
          "start_time": "2020-10-05T01:21:29.875053",
          "status": "completed"
        },
        "tags": [],
        "trusted": true,
        "colab": {
          "base_uri": "https://localhost:8080/"
        },
        "id": "A9M5sUC3djTO",
        "outputId": "22f4b0bf-3381-4b48-df0f-e3ac1fde67c2"
      },
      "cell_type": "code",
      "source": [
        "validation_size = 610\n",
        "\n",
        "X_validate = X_test[-validation_size:]\n",
        "Y_validate = Y_test[-validation_size:]\n",
        "X_test = X_test[:-validation_size]\n",
        "Y_test = Y_test[:-validation_size]\n",
        "score,acc = model.evaluate(X_test, Y_test, verbose = 1, batch_size = batch_size)\n",
        "\n",
        "print(\"score: %.2f\" % (score))\n",
        "print(\"acc: %.2f\" % (acc))"
      ],
      "execution_count": 35,
      "outputs": [
        {
          "output_type": "stream",
          "name": "stdout",
          "text": [
            "4/4 [==============================] - 0s 6ms/step - loss: 0.9320 - acc: 0.7778\n",
            "score: 0.93\n",
            "acc: 0.78\n"
          ]
        }
      ]
    },
    {
      "metadata": {
        "papermill": {
          "duration": 0.09076,
          "end_time": "2020-10-05T01:21:30.321138",
          "exception": false,
          "start_time": "2020-10-05T01:21:30.230378",
          "status": "completed"
        },
        "tags": [],
        "id": "hRhlJ4V7djTO"
      },
      "cell_type": "markdown",
      "source": [
        "**Save Model**\n"
      ]
    },
    {
      "metadata": {
        "execution": {
          "iopub.execute_input": "2020-10-05T01:21:30.520966Z",
          "iopub.status.busy": "2020-10-05T01:21:30.520267Z",
          "iopub.status.idle": "2020-10-05T01:21:30.54368Z",
          "shell.execute_reply": "2020-10-05T01:21:30.543068Z"
        },
        "papermill": {
          "duration": 0.126922,
          "end_time": "2020-10-05T01:21:30.543805",
          "exception": false,
          "start_time": "2020-10-05T01:21:30.416883",
          "status": "completed"
        },
        "tags": [],
        "trusted": true,
        "colab": {
          "base_uri": "https://localhost:8080/"
        },
        "id": "9KDJc0-cdjTO",
        "outputId": "35e15740-3615-4c0c-e8a4-7448abc43a9a"
      },
      "cell_type": "code",
      "source": [
        "\n",
        "model.save('Mymodel.h5')"
      ],
      "execution_count": 36,
      "outputs": [
        {
          "output_type": "stream",
          "name": "stderr",
          "text": [
            "/usr/local/lib/python3.10/dist-packages/keras/src/engine/training.py:3103: UserWarning: You are saving your model as an HDF5 file via `model.save()`. This file format is considered legacy. We recommend using instead the native Keras format, e.g. `model.save('my_model.keras')`.\n",
            "  saving_api.save_model(\n"
          ]
        }
      ]
    },
    {
      "metadata": {
        "papermill": {
          "duration": 0.089611,
          "end_time": "2020-10-05T01:21:30.723508",
          "exception": false,
          "start_time": "2020-10-05T01:21:30.633897",
          "status": "completed"
        },
        "tags": [],
        "id": "xU1fANS2djTO"
      },
      "cell_type": "markdown",
      "source": [
        "**Test with new and different data set aside from the data to build the model.**\n",
        "\n",
        "note : sentiment  = {'positive': 0,'neutral': 1,'negative':2}"
      ]
    },
    {
      "cell_type": "code",
      "source": [
        "message = ['Apple is doing very well in this lousy economy.']\n",
        "seq = tokenizer.texts_to_sequences(message)\n",
        "\n",
        "padded = pad_sequences(seq, maxlen=X.shape[1], dtype='int32', value=0)\n",
        "\n",
        "pred = model.predict(padded)\n",
        "\n",
        "labels = ['positive','neutral','negative']\n",
        "print(message[0])\n",
        "print(f\"probability of positive class: {pred[0][sentiment['positive']]}\")\n",
        "print(f\"probability of neutral class: {pred[0][sentiment['neutral']]}\")\n",
        "print(f\"probability of negative class: {pred[0][sentiment['negative']]}\")\n",
        "print(f\"predicted class: {labels[np.argmax(pred)]}\")\n"
      ],
      "metadata": {
        "id": "UYLbdhV5bise",
        "outputId": "c97c6b14-eb5d-4bd7-cb02-ee212f82d3cc",
        "colab": {
          "base_uri": "https://localhost:8080/"
        }
      },
      "execution_count": 44,
      "outputs": [
        {
          "output_type": "stream",
          "name": "stdout",
          "text": [
            "1/1 [==============================] - 0s 59ms/step\n",
            "Apple is doing very well in this lousy economy.\n",
            "probability of positive class: 0.9828333854675293\n",
            "probability of neutral class: 0.003437405452132225\n",
            "probability of negative class: 0.013729089871048927\n",
            "predicted class: positive\n"
          ]
        }
      ]
    },
    {
      "metadata": {
        "execution": {
          "iopub.execute_input": "2020-10-05T01:21:30.910914Z",
          "iopub.status.busy": "2020-10-05T01:21:30.909943Z",
          "iopub.status.idle": "2020-10-05T01:21:30.951772Z",
          "shell.execute_reply": "2020-10-05T01:21:30.952288Z"
        },
        "papermill": {
          "duration": 0.139045,
          "end_time": "2020-10-05T01:21:30.952454",
          "exception": false,
          "start_time": "2020-10-05T01:21:30.813409",
          "status": "completed"
        },
        "tags": [],
        "trusted": true,
        "colab": {
          "base_uri": "https://localhost:8080/"
        },
        "id": "hl9MQdFKdjTO",
        "outputId": "07c857ad-93e1-424d-ac95-646cd843e8d4"
      },
      "cell_type": "code",
      "source": [
        "message = ['Congratulations! you have won $1,000']\n",
        "seq = tokenizer.texts_to_sequences(message)\n",
        "\n",
        "padded = pad_sequences(seq, maxlen=X.shape[1], dtype='int32', value=0)\n",
        "\n",
        "pred = model.predict(padded)\n",
        "print(message[0])\n",
        "labels = ['positive','neutral','negative']\n",
        "print(f\"probability of positive class: {pred[0][sentiment['positive']]}\")\n",
        "print(f\"probability of neutral class: {pred[0][sentiment['neutral']]}\")\n",
        "print(f\"probability of negative class: {pred[0][sentiment['negative']]}\")\n",
        "print(f\"predicted class: {labels[np.argmax(pred)]}\")\n"
      ],
      "execution_count": 45,
      "outputs": [
        {
          "output_type": "stream",
          "name": "stdout",
          "text": [
            "1/1 [==============================] - 0s 19ms/step\n",
            "Congratulations! you have won $1,000\n",
            "probability of positive class: 0.008085587993264198\n",
            "probability of neutral class: 0.9902400970458984\n",
            "probability of negative class: 0.0016743241576477885\n",
            "predicted class: neutral\n"
          ]
        }
      ]
    },
    {
      "cell_type": "code",
      "source": [
        "message = ['Europe faces an unusual problem: ultra-cheap energy']\n",
        "seq = tokenizer.texts_to_sequences(message)\n",
        "\n",
        "padded = pad_sequences(seq, maxlen=X.shape[1], dtype='int32', value=0)\n",
        "\n",
        "pred = model.predict(padded)\n",
        "print(message[0])\n",
        "labels = ['positive','neutral','negative']\n",
        "print(f\"probability of positive class: {pred[0][sentiment['positive']]}\")\n",
        "print(f\"probability of neutral class: {pred[0][sentiment['neutral']]}\")\n",
        "print(f\"probability of negative class: {pred[0][sentiment['negative']]}\")\n",
        "print(f\"predicted class: {labels[np.argmax(pred)]}\")"
      ],
      "metadata": {
        "colab": {
          "base_uri": "https://localhost:8080/"
        },
        "id": "XtOi2fB5yvtD",
        "outputId": "8bbefc49-eb26-4d3d-efde-71738796f3cc"
      },
      "execution_count": 46,
      "outputs": [
        {
          "output_type": "stream",
          "name": "stdout",
          "text": [
            "1/1 [==============================] - 0s 26ms/step\n",
            "Europe faces an unusual problem: ultra-cheap energy\n",
            "probability of positive class: 0.01670153997838497\n",
            "probability of neutral class: 0.9822993874549866\n",
            "probability of negative class: 0.000999073265120387\n",
            "predicted class: neutral\n"
          ]
        }
      ]
    },
    {
      "cell_type": "code",
      "source": [
        "message = ['The local electronics industry is amid layoff concerns and last year has laid off tens of employees']\n",
        "seq = tokenizer.texts_to_sequences(message)\n",
        "\n",
        "padded = pad_sequences(seq, maxlen=X.shape[1], dtype='int32', value=0)\n",
        "\n",
        "pred = model.predict(padded)\n",
        "print(message[0])\n",
        "labels = ['positive','neutral','negative']\n",
        "print(f\"probability of positive class: {pred[0][sentiment['positive']]}\")\n",
        "print(f\"probability of neutral class: {pred[0][sentiment['neutral']]}\")\n",
        "print(f\"probability of negative class: {pred[0][sentiment['negative']]}\")\n",
        "print(f\"predicted class: {labels[np.argmax(pred)]}\")"
      ],
      "metadata": {
        "colab": {
          "base_uri": "https://localhost:8080/"
        },
        "id": "JyPUtUGmwA__",
        "outputId": "c25b4463-b39a-47e3-d123-f3a6335d0a45"
      },
      "execution_count": 47,
      "outputs": [
        {
          "output_type": "stream",
          "name": "stdout",
          "text": [
            "1/1 [==============================] - 0s 17ms/step\n",
            "The local electronics industry is amid layoff concerns and last year has laid off tens of employees\n",
            "probability of positive class: 3.909645158728381e-07\n",
            "probability of neutral class: 4.1666365291348484e-07\n",
            "probability of negative class: 0.9999991655349731\n",
            "predicted class: negative\n"
          ]
        }
      ]
    },
    {
      "cell_type": "code",
      "source": [
        "message = ['US banks suffer steeper losses']\n",
        "seq = tokenizer.texts_to_sequences(message)\n",
        "\n",
        "padded = pad_sequences(seq, maxlen=X.shape[1], dtype='int32', value=0)\n",
        "\n",
        "pred = model.predict(padded)\n",
        "print(message[0])\n",
        "labels = ['positive','neutral','negative']\n",
        "print(f\"probability of positive class: {pred[0][sentiment['positive']]}\")\n",
        "print(f\"probability of neutral class: {pred[0][sentiment['neutral']]}\")\n",
        "print(f\"probability of negative class: {pred[0][sentiment['negative']]}\")\n",
        "print(f\"predicted class: {labels[np.argmax(pred)]}\")"
      ],
      "metadata": {
        "colab": {
          "base_uri": "https://localhost:8080/"
        },
        "id": "GHDnEAQXxc89",
        "outputId": "6b8f4710-b066-488d-d95d-176c8a345334"
      },
      "execution_count": 48,
      "outputs": [
        {
          "output_type": "stream",
          "name": "stdout",
          "text": [
            "1/1 [==============================] - 0s 18ms/step\n",
            "US banks suffer steeper losses\n",
            "probability of positive class: 0.2637346386909485\n",
            "probability of neutral class: 0.00690743001177907\n",
            "probability of negative class: 0.729357898235321\n",
            "predicted class: negative\n"
          ]
        }
      ]
    },
    {
      "cell_type": "code",
      "source": [
        "message = ['US banks suffer steeper losses, but retain large cushions in annual Fed health check']\n",
        "seq = tokenizer.texts_to_sequences(message)\n",
        "\n",
        "padded = pad_sequences(seq, maxlen=X.shape[1], dtype='int32', value=0)\n",
        "\n",
        "pred = model.predict(padded)\n",
        "print(message[0])\n",
        "labels = ['positive','neutral','negative']\n",
        "print(f\"probability of positive class: {pred[0][sentiment['positive']]}\")\n",
        "print(f\"probability of neutral class: {pred[0][sentiment['neutral']]}\")\n",
        "print(f\"probability of negative class: {pred[0][sentiment['negative']]}\")\n",
        "print(f\"predicted class: {labels[np.argmax(pred)]}\")"
      ],
      "metadata": {
        "colab": {
          "base_uri": "https://localhost:8080/"
        },
        "id": "FRojFC4KxEdQ",
        "outputId": "b9bdcc87-d86c-4c07-af42-e1d754013da9"
      },
      "execution_count": 49,
      "outputs": [
        {
          "output_type": "stream",
          "name": "stdout",
          "text": [
            "1/1 [==============================] - 0s 19ms/step\n",
            "US banks suffer steeper losses, but retain large cushions in annual Fed health check\n",
            "probability of positive class: 2.6937430064322143e-09\n",
            "probability of neutral class: 1.0\n",
            "probability of negative class: 4.479181914263108e-09\n",
            "predicted class: neutral\n"
          ]
        }
      ]
    },
    {
      "cell_type": "code",
      "source": [
        "message = ['Biden says debate was bad episode']\n",
        "seq = tokenizer.texts_to_sequences(message)\n",
        "\n",
        "padded = pad_sequences(seq, maxlen=X.shape[1], dtype='int32', value=0)\n",
        "\n",
        "pred = model.predict(padded)\n",
        "print(message[0])\n",
        "labels = ['positive','neutral','negative']\n",
        "print(f\"probability of positive class: {pred[0][sentiment['positive']]}\")\n",
        "print(f\"probability of neutral class: {pred[0][sentiment['neutral']]}\")\n",
        "print(f\"probability of negative class: {pred[0][sentiment['negative']]}\")\n",
        "print(f\"predicted class: {labels[np.argmax(pred)]}\")"
      ],
      "metadata": {
        "colab": {
          "base_uri": "https://localhost:8080/"
        },
        "id": "d9bhyHp13FWv",
        "outputId": "d5f0433a-afa9-4d84-e143-f6e6071688a2"
      },
      "execution_count": 53,
      "outputs": [
        {
          "output_type": "stream",
          "name": "stdout",
          "text": [
            "1/1 [==============================] - 0s 29ms/step\n",
            "Biden says debate was bad episode\n",
            "probability of positive class: 0.32925793528556824\n",
            "probability of neutral class: 0.32904791831970215\n",
            "probability of negative class: 0.3416941165924072\n",
            "predicted class: negative\n"
          ]
        }
      ]
    }
  ],
  "metadata": {
    "kernelspec": {
      "language": "python",
      "display_name": "Python 3",
      "name": "python3"
    },
    "language_info": {
      "pygments_lexer": "ipython3",
      "nbconvert_exporter": "python",
      "version": "3.6.4",
      "file_extension": ".py",
      "codemirror_mode": {
        "name": "ipython",
        "version": 3
      },
      "name": "python",
      "mimetype": "text/x-python"
    },
    "colab": {
      "provenance": [],
      "toc_visible": true
    }
  },
  "nbformat": 4,
  "nbformat_minor": 0
}